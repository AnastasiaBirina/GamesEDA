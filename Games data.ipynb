{
 "cells": [
  {
   "cell_type": "code",
   "execution_count": 1,
   "metadata": {},
   "outputs": [],
   "source": [
    "import pandas as pd\n",
    "from scipy import stats as st\n",
    "import numpy as np\n",
    "import matplotlib.pyplot as plt\n",
    "import seaborn as sns\n",
    "%matplotlib inline\n",
    "sns.set()\n",
    "\n",
    "import warnings\n",
    "warnings.filterwarnings('ignore')"
   ]
  },
  {
   "cell_type": "code",
   "execution_count": 2,
   "metadata": {},
   "outputs": [
    {
     "data": {
      "text/html": [
       "<div>\n",
       "<style scoped>\n",
       "    .dataframe tbody tr th:only-of-type {\n",
       "        vertical-align: middle;\n",
       "    }\n",
       "\n",
       "    .dataframe tbody tr th {\n",
       "        vertical-align: top;\n",
       "    }\n",
       "\n",
       "    .dataframe thead th {\n",
       "        text-align: right;\n",
       "    }\n",
       "</style>\n",
       "<table border=\"1\" class=\"dataframe\">\n",
       "  <thead>\n",
       "    <tr style=\"text-align: right;\">\n",
       "      <th></th>\n",
       "      <th>Name</th>\n",
       "      <th>Platform</th>\n",
       "      <th>Year_of_Release</th>\n",
       "      <th>Genre</th>\n",
       "      <th>NA_sales</th>\n",
       "      <th>EU_sales</th>\n",
       "      <th>JP_sales</th>\n",
       "      <th>Other_sales</th>\n",
       "      <th>Critic_Score</th>\n",
       "      <th>User_Score</th>\n",
       "      <th>Rating</th>\n",
       "    </tr>\n",
       "  </thead>\n",
       "  <tbody>\n",
       "    <tr>\n",
       "      <th>0</th>\n",
       "      <td>Wii Sports</td>\n",
       "      <td>Wii</td>\n",
       "      <td>2006.0</td>\n",
       "      <td>Sports</td>\n",
       "      <td>41.36</td>\n",
       "      <td>28.96</td>\n",
       "      <td>3.77</td>\n",
       "      <td>8.45</td>\n",
       "      <td>76.0</td>\n",
       "      <td>8</td>\n",
       "      <td>E</td>\n",
       "    </tr>\n",
       "    <tr>\n",
       "      <th>1</th>\n",
       "      <td>Super Mario Bros.</td>\n",
       "      <td>NES</td>\n",
       "      <td>1985.0</td>\n",
       "      <td>Platform</td>\n",
       "      <td>29.08</td>\n",
       "      <td>3.58</td>\n",
       "      <td>6.81</td>\n",
       "      <td>0.77</td>\n",
       "      <td>NaN</td>\n",
       "      <td>NaN</td>\n",
       "      <td>NaN</td>\n",
       "    </tr>\n",
       "    <tr>\n",
       "      <th>2</th>\n",
       "      <td>Mario Kart Wii</td>\n",
       "      <td>Wii</td>\n",
       "      <td>2008.0</td>\n",
       "      <td>Racing</td>\n",
       "      <td>15.68</td>\n",
       "      <td>12.76</td>\n",
       "      <td>3.79</td>\n",
       "      <td>3.29</td>\n",
       "      <td>82.0</td>\n",
       "      <td>8.3</td>\n",
       "      <td>E</td>\n",
       "    </tr>\n",
       "    <tr>\n",
       "      <th>3</th>\n",
       "      <td>Wii Sports Resort</td>\n",
       "      <td>Wii</td>\n",
       "      <td>2009.0</td>\n",
       "      <td>Sports</td>\n",
       "      <td>15.61</td>\n",
       "      <td>10.93</td>\n",
       "      <td>3.28</td>\n",
       "      <td>2.95</td>\n",
       "      <td>80.0</td>\n",
       "      <td>8</td>\n",
       "      <td>E</td>\n",
       "    </tr>\n",
       "    <tr>\n",
       "      <th>4</th>\n",
       "      <td>Pokemon Red/Pokemon Blue</td>\n",
       "      <td>GB</td>\n",
       "      <td>1996.0</td>\n",
       "      <td>Role-Playing</td>\n",
       "      <td>11.27</td>\n",
       "      <td>8.89</td>\n",
       "      <td>10.22</td>\n",
       "      <td>1.00</td>\n",
       "      <td>NaN</td>\n",
       "      <td>NaN</td>\n",
       "      <td>NaN</td>\n",
       "    </tr>\n",
       "  </tbody>\n",
       "</table>\n",
       "</div>"
      ],
      "text/plain": [
       "                       Name Platform  Year_of_Release         Genre  NA_sales  \\\n",
       "0                Wii Sports      Wii           2006.0        Sports     41.36   \n",
       "1         Super Mario Bros.      NES           1985.0      Platform     29.08   \n",
       "2            Mario Kart Wii      Wii           2008.0        Racing     15.68   \n",
       "3         Wii Sports Resort      Wii           2009.0        Sports     15.61   \n",
       "4  Pokemon Red/Pokemon Blue       GB           1996.0  Role-Playing     11.27   \n",
       "\n",
       "   EU_sales  JP_sales  Other_sales  Critic_Score User_Score Rating  \n",
       "0     28.96      3.77         8.45          76.0          8      E  \n",
       "1      3.58      6.81         0.77           NaN        NaN    NaN  \n",
       "2     12.76      3.79         3.29          82.0        8.3      E  \n",
       "3     10.93      3.28         2.95          80.0          8      E  \n",
       "4      8.89     10.22         1.00           NaN        NaN    NaN  "
      ]
     },
     "execution_count": 2,
     "metadata": {},
     "output_type": "execute_result"
    }
   ],
   "source": [
    "#загрузим данные\n",
    "games = pd.read_csv(\"games.csv\")\n",
    "games.head()"
   ]
  },
  {
   "cell_type": "markdown",
   "metadata": {},
   "source": [
    "## Шаг 3. Подготовьте данные\n",
    "### Замените названия столбцов (приведите к нижнему регистру);"
   ]
  },
  {
   "cell_type": "code",
   "execution_count": 3,
   "metadata": {},
   "outputs": [
    {
     "name": "stdout",
     "output_type": "stream",
     "text": [
      "Index(['Name', 'Platform', 'Year_of_Release', 'Genre', 'NA_sales', 'EU_sales',\n",
      "       'JP_sales', 'Other_sales', 'Critic_Score', 'User_Score', 'Rating'],\n",
      "      dtype='object')\n"
     ]
    },
    {
     "data": {
      "text/html": [
       "<div>\n",
       "<style scoped>\n",
       "    .dataframe tbody tr th:only-of-type {\n",
       "        vertical-align: middle;\n",
       "    }\n",
       "\n",
       "    .dataframe tbody tr th {\n",
       "        vertical-align: top;\n",
       "    }\n",
       "\n",
       "    .dataframe thead th {\n",
       "        text-align: right;\n",
       "    }\n",
       "</style>\n",
       "<table border=\"1\" class=\"dataframe\">\n",
       "  <thead>\n",
       "    <tr style=\"text-align: right;\">\n",
       "      <th></th>\n",
       "      <th>name</th>\n",
       "      <th>platform</th>\n",
       "      <th>year_of_release</th>\n",
       "      <th>genre</th>\n",
       "      <th>na_sales</th>\n",
       "      <th>eu_sales</th>\n",
       "      <th>jp_sales</th>\n",
       "      <th>other_sales</th>\n",
       "      <th>critic_score</th>\n",
       "      <th>user_score</th>\n",
       "      <th>rating</th>\n",
       "    </tr>\n",
       "  </thead>\n",
       "  <tbody>\n",
       "    <tr>\n",
       "      <th>0</th>\n",
       "      <td>Wii Sports</td>\n",
       "      <td>Wii</td>\n",
       "      <td>2006.0</td>\n",
       "      <td>Sports</td>\n",
       "      <td>41.36</td>\n",
       "      <td>28.96</td>\n",
       "      <td>3.77</td>\n",
       "      <td>8.45</td>\n",
       "      <td>76.0</td>\n",
       "      <td>8</td>\n",
       "      <td>E</td>\n",
       "    </tr>\n",
       "    <tr>\n",
       "      <th>1</th>\n",
       "      <td>Super Mario Bros.</td>\n",
       "      <td>NES</td>\n",
       "      <td>1985.0</td>\n",
       "      <td>Platform</td>\n",
       "      <td>29.08</td>\n",
       "      <td>3.58</td>\n",
       "      <td>6.81</td>\n",
       "      <td>0.77</td>\n",
       "      <td>NaN</td>\n",
       "      <td>NaN</td>\n",
       "      <td>NaN</td>\n",
       "    </tr>\n",
       "    <tr>\n",
       "      <th>2</th>\n",
       "      <td>Mario Kart Wii</td>\n",
       "      <td>Wii</td>\n",
       "      <td>2008.0</td>\n",
       "      <td>Racing</td>\n",
       "      <td>15.68</td>\n",
       "      <td>12.76</td>\n",
       "      <td>3.79</td>\n",
       "      <td>3.29</td>\n",
       "      <td>82.0</td>\n",
       "      <td>8.3</td>\n",
       "      <td>E</td>\n",
       "    </tr>\n",
       "    <tr>\n",
       "      <th>3</th>\n",
       "      <td>Wii Sports Resort</td>\n",
       "      <td>Wii</td>\n",
       "      <td>2009.0</td>\n",
       "      <td>Sports</td>\n",
       "      <td>15.61</td>\n",
       "      <td>10.93</td>\n",
       "      <td>3.28</td>\n",
       "      <td>2.95</td>\n",
       "      <td>80.0</td>\n",
       "      <td>8</td>\n",
       "      <td>E</td>\n",
       "    </tr>\n",
       "    <tr>\n",
       "      <th>4</th>\n",
       "      <td>Pokemon Red/Pokemon Blue</td>\n",
       "      <td>GB</td>\n",
       "      <td>1996.0</td>\n",
       "      <td>Role-Playing</td>\n",
       "      <td>11.27</td>\n",
       "      <td>8.89</td>\n",
       "      <td>10.22</td>\n",
       "      <td>1.00</td>\n",
       "      <td>NaN</td>\n",
       "      <td>NaN</td>\n",
       "      <td>NaN</td>\n",
       "    </tr>\n",
       "  </tbody>\n",
       "</table>\n",
       "</div>"
      ],
      "text/plain": [
       "                       name platform  year_of_release         genre  na_sales  \\\n",
       "0                Wii Sports      Wii           2006.0        Sports     41.36   \n",
       "1         Super Mario Bros.      NES           1985.0      Platform     29.08   \n",
       "2            Mario Kart Wii      Wii           2008.0        Racing     15.68   \n",
       "3         Wii Sports Resort      Wii           2009.0        Sports     15.61   \n",
       "4  Pokemon Red/Pokemon Blue       GB           1996.0  Role-Playing     11.27   \n",
       "\n",
       "   eu_sales  jp_sales  other_sales  critic_score user_score rating  \n",
       "0     28.96      3.77         8.45          76.0          8      E  \n",
       "1      3.58      6.81         0.77           NaN        NaN    NaN  \n",
       "2     12.76      3.79         3.29          82.0        8.3      E  \n",
       "3     10.93      3.28         2.95          80.0          8      E  \n",
       "4      8.89     10.22         1.00           NaN        NaN    NaN  "
      ]
     },
     "execution_count": 3,
     "metadata": {},
     "output_type": "execute_result"
    }
   ],
   "source": [
    "print(games.columns)\n",
    "for col in games.columns:\n",
    "    games.rename({col : col.lower()}, axis=1, inplace=True) \n",
    "games.head()"
   ]
  },
  {
   "cell_type": "markdown",
   "metadata": {},
   "source": [
    "### Преобразуйте данные в нужные типы. Опишите, в каких столбцах заменили тип данных и почему;"
   ]
  },
  {
   "cell_type": "code",
   "execution_count": 4,
   "metadata": {},
   "outputs": [
    {
     "name": "stdout",
     "output_type": "stream",
     "text": [
      "<class 'pandas.core.frame.DataFrame'>\n",
      "RangeIndex: 16715 entries, 0 to 16714\n",
      "Data columns (total 11 columns):\n",
      " #   Column           Non-Null Count  Dtype  \n",
      "---  ------           --------------  -----  \n",
      " 0   name             16713 non-null  object \n",
      " 1   platform         16715 non-null  object \n",
      " 2   year_of_release  16446 non-null  float64\n",
      " 3   genre            16713 non-null  object \n",
      " 4   na_sales         16715 non-null  float64\n",
      " 5   eu_sales         16715 non-null  float64\n",
      " 6   jp_sales         16715 non-null  float64\n",
      " 7   other_sales      16715 non-null  float64\n",
      " 8   critic_score     8137 non-null   float64\n",
      " 9   user_score       10014 non-null  object \n",
      " 10  rating           9949 non-null   object \n",
      "dtypes: float64(6), object(5)\n",
      "memory usage: 1.4+ MB\n"
     ]
    }
   ],
   "source": [
    "games.info()"
   ]
  },
  {
   "cell_type": "code",
   "execution_count": 5,
   "metadata": {},
   "outputs": [
    {
     "data": {
      "text/html": [
       "<div>\n",
       "<style scoped>\n",
       "    .dataframe tbody tr th:only-of-type {\n",
       "        vertical-align: middle;\n",
       "    }\n",
       "\n",
       "    .dataframe tbody tr th {\n",
       "        vertical-align: top;\n",
       "    }\n",
       "\n",
       "    .dataframe thead th {\n",
       "        text-align: right;\n",
       "    }\n",
       "</style>\n",
       "<table border=\"1\" class=\"dataframe\">\n",
       "  <thead>\n",
       "    <tr style=\"text-align: right;\">\n",
       "      <th></th>\n",
       "      <th>name</th>\n",
       "      <th>platform</th>\n",
       "      <th>genre</th>\n",
       "      <th>user_score</th>\n",
       "      <th>rating</th>\n",
       "    </tr>\n",
       "  </thead>\n",
       "  <tbody>\n",
       "    <tr>\n",
       "      <th>count</th>\n",
       "      <td>16713</td>\n",
       "      <td>16715</td>\n",
       "      <td>16713</td>\n",
       "      <td>10014</td>\n",
       "      <td>9949</td>\n",
       "    </tr>\n",
       "    <tr>\n",
       "      <th>unique</th>\n",
       "      <td>11559</td>\n",
       "      <td>31</td>\n",
       "      <td>12</td>\n",
       "      <td>96</td>\n",
       "      <td>8</td>\n",
       "    </tr>\n",
       "    <tr>\n",
       "      <th>top</th>\n",
       "      <td>Need for Speed: Most Wanted</td>\n",
       "      <td>PS2</td>\n",
       "      <td>Action</td>\n",
       "      <td>tbd</td>\n",
       "      <td>E</td>\n",
       "    </tr>\n",
       "    <tr>\n",
       "      <th>freq</th>\n",
       "      <td>12</td>\n",
       "      <td>2161</td>\n",
       "      <td>3369</td>\n",
       "      <td>2424</td>\n",
       "      <td>3990</td>\n",
       "    </tr>\n",
       "  </tbody>\n",
       "</table>\n",
       "</div>"
      ],
      "text/plain": [
       "                               name platform   genre user_score rating\n",
       "count                         16713    16715   16713      10014   9949\n",
       "unique                        11559       31      12         96      8\n",
       "top     Need for Speed: Most Wanted      PS2  Action        tbd      E\n",
       "freq                             12     2161    3369       2424   3990"
      ]
     },
     "execution_count": 5,
     "metadata": {},
     "output_type": "execute_result"
    }
   ],
   "source": [
    "#для начала исследуем object\n",
    "games.describe(include=\"object\")"
   ]
  },
  {
   "cell_type": "markdown",
   "metadata": {},
   "source": [
    "Столбцы name, platform не стоит заменять на числовые аналоги, а столбцы rating и genre, если бы было очень много данных, можно было бы заменить числами для экономии памяти. В столбце User_Score содержатся как числа, так и строки, хотя \"user_score\" — оценка пользователей (от 0 до 10), поэтому с этим стоит разобраться в дальнейшем"
   ]
  },
  {
   "cell_type": "code",
   "execution_count": 6,
   "metadata": {},
   "outputs": [],
   "source": [
    "#заменим значения рейтинга на числа для дальнейшей замены пропусков\n",
    "dict_with_r = dict(zip(games.rating.dropna().unique(), range(7)))\n",
    "games.rating = games.rating.map(dict(zip(dict_with_r, range(7)))).astype(\"float16\")"
   ]
  },
  {
   "cell_type": "code",
   "execution_count": 7,
   "metadata": {},
   "outputs": [
    {
     "data": {
      "text/html": [
       "<div>\n",
       "<style scoped>\n",
       "    .dataframe tbody tr th:only-of-type {\n",
       "        vertical-align: middle;\n",
       "    }\n",
       "\n",
       "    .dataframe tbody tr th {\n",
       "        vertical-align: top;\n",
       "    }\n",
       "\n",
       "    .dataframe thead th {\n",
       "        text-align: right;\n",
       "    }\n",
       "</style>\n",
       "<table border=\"1\" class=\"dataframe\">\n",
       "  <thead>\n",
       "    <tr style=\"text-align: right;\">\n",
       "      <th></th>\n",
       "      <th>name</th>\n",
       "      <th>platform</th>\n",
       "      <th>year_of_release</th>\n",
       "      <th>genre</th>\n",
       "      <th>na_sales</th>\n",
       "      <th>eu_sales</th>\n",
       "      <th>jp_sales</th>\n",
       "      <th>other_sales</th>\n",
       "      <th>critic_score</th>\n",
       "      <th>user_score</th>\n",
       "      <th>rating</th>\n",
       "    </tr>\n",
       "  </thead>\n",
       "  <tbody>\n",
       "    <tr>\n",
       "      <th>119</th>\n",
       "      <td>Zumba Fitness</td>\n",
       "      <td>Wii</td>\n",
       "      <td>2010.0</td>\n",
       "      <td>Sports</td>\n",
       "      <td>3.45</td>\n",
       "      <td>2.59</td>\n",
       "      <td>0.0</td>\n",
       "      <td>0.66</td>\n",
       "      <td>NaN</td>\n",
       "      <td>tbd</td>\n",
       "      <td>0.0</td>\n",
       "    </tr>\n",
       "    <tr>\n",
       "      <th>301</th>\n",
       "      <td>Namco Museum: 50th Anniversary</td>\n",
       "      <td>PS2</td>\n",
       "      <td>2005.0</td>\n",
       "      <td>Misc</td>\n",
       "      <td>2.08</td>\n",
       "      <td>1.35</td>\n",
       "      <td>0.0</td>\n",
       "      <td>0.54</td>\n",
       "      <td>61.0</td>\n",
       "      <td>tbd</td>\n",
       "      <td>3.0</td>\n",
       "    </tr>\n",
       "    <tr>\n",
       "      <th>520</th>\n",
       "      <td>Zumba Fitness 2</td>\n",
       "      <td>Wii</td>\n",
       "      <td>2011.0</td>\n",
       "      <td>Sports</td>\n",
       "      <td>1.51</td>\n",
       "      <td>1.03</td>\n",
       "      <td>0.0</td>\n",
       "      <td>0.27</td>\n",
       "      <td>NaN</td>\n",
       "      <td>tbd</td>\n",
       "      <td>2.0</td>\n",
       "    </tr>\n",
       "    <tr>\n",
       "      <th>645</th>\n",
       "      <td>uDraw Studio</td>\n",
       "      <td>Wii</td>\n",
       "      <td>2010.0</td>\n",
       "      <td>Misc</td>\n",
       "      <td>1.65</td>\n",
       "      <td>0.57</td>\n",
       "      <td>0.0</td>\n",
       "      <td>0.20</td>\n",
       "      <td>71.0</td>\n",
       "      <td>tbd</td>\n",
       "      <td>0.0</td>\n",
       "    </tr>\n",
       "    <tr>\n",
       "      <th>657</th>\n",
       "      <td>Frogger's Adventures: Temple of the Frog</td>\n",
       "      <td>GBA</td>\n",
       "      <td>NaN</td>\n",
       "      <td>Adventure</td>\n",
       "      <td>2.15</td>\n",
       "      <td>0.18</td>\n",
       "      <td>0.0</td>\n",
       "      <td>0.07</td>\n",
       "      <td>73.0</td>\n",
       "      <td>tbd</td>\n",
       "      <td>0.0</td>\n",
       "    </tr>\n",
       "  </tbody>\n",
       "</table>\n",
       "</div>"
      ],
      "text/plain": [
       "                                         name platform  year_of_release  \\\n",
       "119                             Zumba Fitness      Wii           2010.0   \n",
       "301            Namco Museum: 50th Anniversary      PS2           2005.0   \n",
       "520                           Zumba Fitness 2      Wii           2011.0   \n",
       "645                              uDraw Studio      Wii           2010.0   \n",
       "657  Frogger's Adventures: Temple of the Frog      GBA              NaN   \n",
       "\n",
       "         genre  na_sales  eu_sales  jp_sales  other_sales  critic_score  \\\n",
       "119     Sports      3.45      2.59       0.0         0.66           NaN   \n",
       "301       Misc      2.08      1.35       0.0         0.54          61.0   \n",
       "520     Sports      1.51      1.03       0.0         0.27           NaN   \n",
       "645       Misc      1.65      0.57       0.0         0.20          71.0   \n",
       "657  Adventure      2.15      0.18       0.0         0.07          73.0   \n",
       "\n",
       "    user_score  rating  \n",
       "119        tbd     0.0  \n",
       "301        tbd     3.0  \n",
       "520        tbd     2.0  \n",
       "645        tbd     0.0  \n",
       "657        tbd     0.0  "
      ]
     },
     "execution_count": 7,
     "metadata": {},
     "output_type": "execute_result"
    }
   ],
   "source": [
    "#изучим user_score со значением tbd\n",
    "games_with_tbd = games[games['user_score'] == 'tbd']\n",
    "games_with_tbd.head()"
   ]
  },
  {
   "cell_type": "markdown",
   "metadata": {},
   "source": [
    "В глаза бросается нулевое значение jp_score. Возможно, значение tbd ставится, когда нет продаж в каком-либо регионе"
   ]
  },
  {
   "cell_type": "code",
   "execution_count": 8,
   "metadata": {},
   "outputs": [
    {
     "name": "stdout",
     "output_type": "stream",
     "text": [
      "tbd len:  2424 \n",
      "tbd + jap0 len:  2342\n"
     ]
    }
   ],
   "source": [
    "#сравним количество игр со значением tbd и со значением tbd и jp_sales = 0\n",
    "print(\"tbd len: \", games_with_tbd.shape[0], \"\\ntbd + jap0 len: \", \n",
    "      games[(games['user_score'] == 'tbd') & (games['jp_sales'] == 0)].shape[0])"
   ]
  },
  {
   "cell_type": "markdown",
   "metadata": {},
   "source": [
    "Кажется, что значение tbd зависит от продаж в jp. Пока заменим tbd на null и будем работать с этими данными"
   ]
  },
  {
   "cell_type": "code",
   "execution_count": 9,
   "metadata": {},
   "outputs": [],
   "source": [
    "games_without_tbd = games.copy()\n",
    "games_without_tbd.loc[games_without_tbd['user_score'] == 'tbd', 'user_score'] = np.nan "
   ]
  },
  {
   "cell_type": "code",
   "execution_count": 10,
   "metadata": {},
   "outputs": [
    {
     "data": {
      "text/html": [
       "<div>\n",
       "<style scoped>\n",
       "    .dataframe tbody tr th:only-of-type {\n",
       "        vertical-align: middle;\n",
       "    }\n",
       "\n",
       "    .dataframe tbody tr th {\n",
       "        vertical-align: top;\n",
       "    }\n",
       "\n",
       "    .dataframe thead th {\n",
       "        text-align: right;\n",
       "    }\n",
       "</style>\n",
       "<table border=\"1\" class=\"dataframe\">\n",
       "  <thead>\n",
       "    <tr style=\"text-align: right;\">\n",
       "      <th></th>\n",
       "      <th>count</th>\n",
       "      <th>mean</th>\n",
       "      <th>std</th>\n",
       "      <th>min</th>\n",
       "      <th>25%</th>\n",
       "      <th>50%</th>\n",
       "      <th>75%</th>\n",
       "      <th>max</th>\n",
       "    </tr>\n",
       "  </thead>\n",
       "  <tbody>\n",
       "    <tr>\n",
       "      <th>year_of_release</th>\n",
       "      <td>16446.0</td>\n",
       "      <td>2006.484616</td>\n",
       "      <td>5.877050</td>\n",
       "      <td>1980.0</td>\n",
       "      <td>2003.0</td>\n",
       "      <td>2007.00</td>\n",
       "      <td>2010.00</td>\n",
       "      <td>2016.00</td>\n",
       "    </tr>\n",
       "    <tr>\n",
       "      <th>na_sales</th>\n",
       "      <td>16715.0</td>\n",
       "      <td>0.263377</td>\n",
       "      <td>0.813604</td>\n",
       "      <td>0.0</td>\n",
       "      <td>0.0</td>\n",
       "      <td>0.08</td>\n",
       "      <td>0.24</td>\n",
       "      <td>41.36</td>\n",
       "    </tr>\n",
       "    <tr>\n",
       "      <th>eu_sales</th>\n",
       "      <td>16715.0</td>\n",
       "      <td>0.145060</td>\n",
       "      <td>0.503339</td>\n",
       "      <td>0.0</td>\n",
       "      <td>0.0</td>\n",
       "      <td>0.02</td>\n",
       "      <td>0.11</td>\n",
       "      <td>28.96</td>\n",
       "    </tr>\n",
       "    <tr>\n",
       "      <th>jp_sales</th>\n",
       "      <td>16715.0</td>\n",
       "      <td>0.077617</td>\n",
       "      <td>0.308853</td>\n",
       "      <td>0.0</td>\n",
       "      <td>0.0</td>\n",
       "      <td>0.00</td>\n",
       "      <td>0.04</td>\n",
       "      <td>10.22</td>\n",
       "    </tr>\n",
       "    <tr>\n",
       "      <th>other_sales</th>\n",
       "      <td>16715.0</td>\n",
       "      <td>0.047342</td>\n",
       "      <td>0.186731</td>\n",
       "      <td>0.0</td>\n",
       "      <td>0.0</td>\n",
       "      <td>0.01</td>\n",
       "      <td>0.03</td>\n",
       "      <td>10.57</td>\n",
       "    </tr>\n",
       "    <tr>\n",
       "      <th>critic_score</th>\n",
       "      <td>8137.0</td>\n",
       "      <td>68.967679</td>\n",
       "      <td>13.938165</td>\n",
       "      <td>13.0</td>\n",
       "      <td>60.0</td>\n",
       "      <td>71.00</td>\n",
       "      <td>79.00</td>\n",
       "      <td>98.00</td>\n",
       "    </tr>\n",
       "    <tr>\n",
       "      <th>rating</th>\n",
       "      <td>9946.0</td>\n",
       "      <td>1.187500</td>\n",
       "      <td>1.122070</td>\n",
       "      <td>0.0</td>\n",
       "      <td>0.0</td>\n",
       "      <td>1.00</td>\n",
       "      <td>2.00</td>\n",
       "      <td>6.00</td>\n",
       "    </tr>\n",
       "  </tbody>\n",
       "</table>\n",
       "</div>"
      ],
      "text/plain": [
       "                   count         mean        std     min     25%      50%  \\\n",
       "year_of_release  16446.0  2006.484616   5.877050  1980.0  2003.0  2007.00   \n",
       "na_sales         16715.0     0.263377   0.813604     0.0     0.0     0.08   \n",
       "eu_sales         16715.0     0.145060   0.503339     0.0     0.0     0.02   \n",
       "jp_sales         16715.0     0.077617   0.308853     0.0     0.0     0.00   \n",
       "other_sales      16715.0     0.047342   0.186731     0.0     0.0     0.01   \n",
       "critic_score      8137.0    68.967679  13.938165    13.0    60.0    71.00   \n",
       "rating            9946.0     1.187500   1.122070     0.0     0.0     1.00   \n",
       "\n",
       "                     75%      max  \n",
       "year_of_release  2010.00  2016.00  \n",
       "na_sales            0.24    41.36  \n",
       "eu_sales            0.11    28.96  \n",
       "jp_sales            0.04    10.22  \n",
       "other_sales         0.03    10.57  \n",
       "critic_score       79.00    98.00  \n",
       "rating              2.00     6.00  "
      ]
     },
     "execution_count": 10,
     "metadata": {},
     "output_type": "execute_result"
    }
   ],
   "source": [
    "#исследуем числовые типы\n",
    "games_without_tbd.describe().T"
   ]
  },
  {
   "cell_type": "markdown",
   "metadata": {},
   "source": [
    "Видим, что есть подозрительно высокие значения продаж для NA и EU регионов."
   ]
  },
  {
   "cell_type": "code",
   "execution_count": 11,
   "metadata": {},
   "outputs": [
    {
     "data": {
      "text/plain": [
       "<AxesSubplot:>"
      ]
     },
     "execution_count": 11,
     "metadata": {},
     "output_type": "execute_result"
    },
    {
     "data": {
      "image/png": "[encoded data removed]",
      "text/plain": [
       "<Figure size 1080x216 with 1 Axes>"
      ]
     },
     "metadata": {},
     "output_type": "display_data"
    }
   ],
   "source": [
    "#Посмотрим, как они выглядят и являются ли выбросами\n",
    "fig, ax = plt.subplots(figsize=(15, 3))\n",
    "sns.boxplot(data=games_without_tbd[[\"na_sales\", \"eu_sales\", \"jp_sales\", \"other_sales\"]], ax=ax, orient=\"h\")"
   ]
  },
  {
   "cell_type": "code",
   "execution_count": 12,
   "metadata": {},
   "outputs": [
    {
     "data": {
      "text/plain": [
       "<AxesSubplot:>"
      ]
     },
     "execution_count": 12,
     "metadata": {},
     "output_type": "execute_result"
    },
    {
     "data": {
      "image/png": "[encoded data removed]",
      "text/plain": [
       "<Figure size 1080x216 with 1 Axes>"
      ]
     },
     "metadata": {},
     "output_type": "display_data"
    }
   ],
   "source": [
    "#Удалим явные выбросы в данных\n",
    "games_without_tbd = games_without_tbd[(games_without_tbd[\"na_sales\"]<games_without_tbd.na_sales.quantile(.99))\\\n",
    "                                      & (games_without_tbd[\"eu_sales\"]<games_without_tbd.eu_sales.quantile(.99))\\\n",
    "                                      & (games_without_tbd[\"jp_sales\"]<games_without_tbd.jp_sales.quantile(.99))\n",
    "                                      & (games_without_tbd[\"other_sales\"]<games_without_tbd.other_sales.quantile(.99))]\n",
    "fig, ax = plt.subplots(figsize=(15, 3))\n",
    "sns.boxplot(data=games_without_tbd[[\"na_sales\", \"eu_sales\", \"jp_sales\", \"other_sales\"]], ax=ax, orient=\"h\")"
   ]
  },
  {
   "cell_type": "markdown",
   "metadata": {},
   "source": [
    "Как можно изменить типы  данных:\n",
    "\n",
    "year_of_release (min 1980, max 2016, но данные могут дополняться), critic_score (min 0, max 100) -\n",
    "    \n",
    "    float64 -> int16 (max 65535), т.к. занимает много места и значения целые\n",
    "    \n",
    "    \n",
    "na_sales, eu_sales, jp_sales, other_sales (min 0, max 41.36, но данные могут дополняться) -\n",
    "\n",
    "    float64 -> float16, т.к. занимает много места\n",
    "    \n",
    "    \n",
    "user_score (min 0, max 10) -\n",
    "\n",
    "    object ->  float16"
   ]
  },
  {
   "cell_type": "code",
   "execution_count": 13,
   "metadata": {},
   "outputs": [],
   "source": [
    "#изменим типы данных\n",
    "def ch_type(col, data_type):\n",
    "    games_without_tbd[col] = games_without_tbd[col].astype(data_type) "
   ]
  },
  {
   "cell_type": "code",
   "execution_count": 14,
   "metadata": {},
   "outputs": [],
   "source": [
    "ch_type(\"na_sales\", \"float16\") \n",
    "ch_type(\"eu_sales\", \"float16\")\n",
    "ch_type(\"jp_sales\", \"float16\")\n",
    "ch_type(\"other_sales\", \"float16\")\n",
    "ch_type(\"user_score\", \"float16\") "
   ]
  },
  {
   "cell_type": "code",
   "execution_count": 15,
   "metadata": {},
   "outputs": [
    {
     "name": "stdout",
     "output_type": "stream",
     "text": [
      "<class 'pandas.core.frame.DataFrame'>\n",
      "Int64Index: 16319 entries, 166 to 16714\n",
      "Data columns (total 11 columns):\n",
      " #   Column           Non-Null Count  Dtype  \n",
      "---  ------           --------------  -----  \n",
      " 0   name             16317 non-null  object \n",
      " 1   platform         16319 non-null  object \n",
      " 2   year_of_release  16052 non-null  float64\n",
      " 3   genre            16317 non-null  object \n",
      " 4   na_sales         16319 non-null  float16\n",
      " 5   eu_sales         16319 non-null  float16\n",
      " 6   jp_sales         16319 non-null  float16\n",
      " 7   other_sales      16319 non-null  float16\n",
      " 8   critic_score     7906 non-null   float64\n",
      " 9   user_score       7353 non-null   float16\n",
      " 10  rating           9706 non-null   float16\n",
      "dtypes: float16(6), float64(2), object(3)\n",
      "memory usage: 956.2+ KB\n"
     ]
    }
   ],
   "source": [
    "games_without_tbd.info()"
   ]
  },
  {
   "cell_type": "markdown",
   "metadata": {},
   "source": [
    "Для того, чтобы преобразовать другие столбцы, нужно разобраться с отсутствующими значениями в df. Еще раз посмотрим на общую информацию"
   ]
  },
  {
   "cell_type": "code",
   "execution_count": 16,
   "metadata": {},
   "outputs": [],
   "source": [
    "#Всего 16715 значений, жанр отсутствует у 2 игр - 0.0001%, год у 267 игр - 0.016%, \n",
    "#данные пропуски могли произойти в следствие человекческого фактора. Т.к. %пропусков мал, их можно удалить\n",
    "games_without_tbd = games_without_tbd[(~games_without_tbd[\"year_of_release\"].isna()) & (~games_without_tbd[\"genre\"].isna())]\n",
    "ch_type(\"year_of_release\", \"int16\")"
   ]
  },
  {
   "cell_type": "code",
   "execution_count": 17,
   "metadata": {},
   "outputs": [
    {
     "name": "stdout",
     "output_type": "stream",
     "text": [
      "<class 'pandas.core.frame.DataFrame'>\n",
      "Int64Index: 16050 entries, 166 to 16714\n",
      "Data columns (total 11 columns):\n",
      " #   Column           Non-Null Count  Dtype  \n",
      "---  ------           --------------  -----  \n",
      " 0   name             16050 non-null  object \n",
      " 1   platform         16050 non-null  object \n",
      " 2   year_of_release  16050 non-null  int16  \n",
      " 3   genre            16050 non-null  object \n",
      " 4   na_sales         16050 non-null  float16\n",
      " 5   eu_sales         16050 non-null  float16\n",
      " 6   jp_sales         16050 non-null  float16\n",
      " 7   other_sales      16050 non-null  float16\n",
      " 8   critic_score     7754 non-null   float64\n",
      " 9   user_score       7228 non-null   float16\n",
      " 10  rating           9529 non-null   float16\n",
      "dtypes: float16(6), float64(1), int16(1), object(3)\n",
      "memory usage: 846.4+ KB\n"
     ]
    }
   ],
   "source": [
    "games_without_tbd.info()"
   ]
  },
  {
   "cell_type": "markdown",
   "metadata": {},
   "source": [
    "Пропусков в столбцах critic_score, user_score, rating слишком много, замена на какие-либо значения появляет на анализ данных. \n",
    "Т.к. для одной игры столбцы critic_score, user_score и rating примерно одинаковы, то можем восполнить недостающие значения.\n",
    "Это видно на примере игры Need for Speed: Most Wanted (ниже), хотя есть исключения (для platform DS), поэтому используем median вместо mean"
   ]
  },
  {
   "cell_type": "code",
   "execution_count": 18,
   "metadata": {},
   "outputs": [
    {
     "data": {
      "text/html": [
       "<div>\n",
       "<style scoped>\n",
       "    .dataframe tbody tr th:only-of-type {\n",
       "        vertical-align: middle;\n",
       "    }\n",
       "\n",
       "    .dataframe tbody tr th {\n",
       "        vertical-align: top;\n",
       "    }\n",
       "\n",
       "    .dataframe thead th {\n",
       "        text-align: right;\n",
       "    }\n",
       "</style>\n",
       "<table border=\"1\" class=\"dataframe\">\n",
       "  <thead>\n",
       "    <tr style=\"text-align: right;\">\n",
       "      <th></th>\n",
       "      <th>name</th>\n",
       "      <th>platform</th>\n",
       "      <th>year_of_release</th>\n",
       "      <th>genre</th>\n",
       "      <th>na_sales</th>\n",
       "      <th>eu_sales</th>\n",
       "      <th>jp_sales</th>\n",
       "      <th>other_sales</th>\n",
       "      <th>critic_score</th>\n",
       "      <th>user_score</th>\n",
       "      <th>rating</th>\n",
       "    </tr>\n",
       "  </thead>\n",
       "  <tbody>\n",
       "    <tr>\n",
       "      <th>253</th>\n",
       "      <td>Need for Speed: Most Wanted</td>\n",
       "      <td>PS2</td>\n",
       "      <td>2005</td>\n",
       "      <td>Racing</td>\n",
       "      <td>2.029297</td>\n",
       "      <td>1.790039</td>\n",
       "      <td>0.080017</td>\n",
       "      <td>0.469971</td>\n",
       "      <td>82.0</td>\n",
       "      <td>9.101562</td>\n",
       "      <td>2.0</td>\n",
       "    </tr>\n",
       "    <tr>\n",
       "      <th>523</th>\n",
       "      <td>Need for Speed: Most Wanted</td>\n",
       "      <td>PS3</td>\n",
       "      <td>2012</td>\n",
       "      <td>Racing</td>\n",
       "      <td>0.709961</td>\n",
       "      <td>1.459961</td>\n",
       "      <td>0.059998</td>\n",
       "      <td>0.580078</td>\n",
       "      <td>NaN</td>\n",
       "      <td>NaN</td>\n",
       "      <td>NaN</td>\n",
       "    </tr>\n",
       "    <tr>\n",
       "      <th>1190</th>\n",
       "      <td>Need for Speed: Most Wanted</td>\n",
       "      <td>X360</td>\n",
       "      <td>2012</td>\n",
       "      <td>Racing</td>\n",
       "      <td>0.620117</td>\n",
       "      <td>0.779785</td>\n",
       "      <td>0.010002</td>\n",
       "      <td>0.150024</td>\n",
       "      <td>83.0</td>\n",
       "      <td>8.500000</td>\n",
       "      <td>2.0</td>\n",
       "    </tr>\n",
       "    <tr>\n",
       "      <th>1591</th>\n",
       "      <td>Need for Speed: Most Wanted</td>\n",
       "      <td>X360</td>\n",
       "      <td>2005</td>\n",
       "      <td>Racing</td>\n",
       "      <td>1.000000</td>\n",
       "      <td>0.130005</td>\n",
       "      <td>0.020004</td>\n",
       "      <td>0.099976</td>\n",
       "      <td>83.0</td>\n",
       "      <td>8.500000</td>\n",
       "      <td>2.0</td>\n",
       "    </tr>\n",
       "    <tr>\n",
       "      <th>1998</th>\n",
       "      <td>Need for Speed: Most Wanted</td>\n",
       "      <td>XB</td>\n",
       "      <td>2005</td>\n",
       "      <td>Racing</td>\n",
       "      <td>0.529785</td>\n",
       "      <td>0.459961</td>\n",
       "      <td>0.000000</td>\n",
       "      <td>0.049988</td>\n",
       "      <td>83.0</td>\n",
       "      <td>8.796875</td>\n",
       "      <td>2.0</td>\n",
       "    </tr>\n",
       "    <tr>\n",
       "      <th>2048</th>\n",
       "      <td>Need for Speed: Most Wanted</td>\n",
       "      <td>PSV</td>\n",
       "      <td>2012</td>\n",
       "      <td>Racing</td>\n",
       "      <td>0.330078</td>\n",
       "      <td>0.449951</td>\n",
       "      <td>0.010002</td>\n",
       "      <td>0.219971</td>\n",
       "      <td>NaN</td>\n",
       "      <td>NaN</td>\n",
       "      <td>NaN</td>\n",
       "    </tr>\n",
       "    <tr>\n",
       "      <th>3581</th>\n",
       "      <td>Need for Speed: Most Wanted</td>\n",
       "      <td>GC</td>\n",
       "      <td>2005</td>\n",
       "      <td>Racing</td>\n",
       "      <td>0.429932</td>\n",
       "      <td>0.109985</td>\n",
       "      <td>0.000000</td>\n",
       "      <td>0.020004</td>\n",
       "      <td>80.0</td>\n",
       "      <td>9.101562</td>\n",
       "      <td>2.0</td>\n",
       "    </tr>\n",
       "    <tr>\n",
       "      <th>5972</th>\n",
       "      <td>Need for Speed: Most Wanted</td>\n",
       "      <td>PC</td>\n",
       "      <td>2005</td>\n",
       "      <td>Racing</td>\n",
       "      <td>0.020004</td>\n",
       "      <td>0.229980</td>\n",
       "      <td>0.000000</td>\n",
       "      <td>0.040009</td>\n",
       "      <td>82.0</td>\n",
       "      <td>8.500000</td>\n",
       "      <td>2.0</td>\n",
       "    </tr>\n",
       "    <tr>\n",
       "      <th>6273</th>\n",
       "      <td>Need for Speed: Most Wanted</td>\n",
       "      <td>WiiU</td>\n",
       "      <td>2013</td>\n",
       "      <td>Racing</td>\n",
       "      <td>0.130005</td>\n",
       "      <td>0.119995</td>\n",
       "      <td>0.000000</td>\n",
       "      <td>0.020004</td>\n",
       "      <td>NaN</td>\n",
       "      <td>NaN</td>\n",
       "      <td>NaN</td>\n",
       "    </tr>\n",
       "    <tr>\n",
       "      <th>6410</th>\n",
       "      <td>Need for Speed: Most Wanted</td>\n",
       "      <td>DS</td>\n",
       "      <td>2005</td>\n",
       "      <td>Racing</td>\n",
       "      <td>0.239990</td>\n",
       "      <td>0.010002</td>\n",
       "      <td>0.000000</td>\n",
       "      <td>0.020004</td>\n",
       "      <td>45.0</td>\n",
       "      <td>6.101562</td>\n",
       "      <td>0.0</td>\n",
       "    </tr>\n",
       "    <tr>\n",
       "      <th>6473</th>\n",
       "      <td>Need for Speed: Most Wanted</td>\n",
       "      <td>GBA</td>\n",
       "      <td>2005</td>\n",
       "      <td>Racing</td>\n",
       "      <td>0.189941</td>\n",
       "      <td>0.070007</td>\n",
       "      <td>0.000000</td>\n",
       "      <td>0.000000</td>\n",
       "      <td>NaN</td>\n",
       "      <td>8.296875</td>\n",
       "      <td>0.0</td>\n",
       "    </tr>\n",
       "    <tr>\n",
       "      <th>11715</th>\n",
       "      <td>Need for Speed: Most Wanted</td>\n",
       "      <td>PC</td>\n",
       "      <td>2012</td>\n",
       "      <td>Racing</td>\n",
       "      <td>0.000000</td>\n",
       "      <td>0.059998</td>\n",
       "      <td>0.000000</td>\n",
       "      <td>0.020004</td>\n",
       "      <td>82.0</td>\n",
       "      <td>8.500000</td>\n",
       "      <td>2.0</td>\n",
       "    </tr>\n",
       "  </tbody>\n",
       "</table>\n",
       "</div>"
      ],
      "text/plain": [
       "                              name platform  year_of_release   genre  \\\n",
       "253    Need for Speed: Most Wanted      PS2             2005  Racing   \n",
       "523    Need for Speed: Most Wanted      PS3             2012  Racing   \n",
       "1190   Need for Speed: Most Wanted     X360             2012  Racing   \n",
       "1591   Need for Speed: Most Wanted     X360             2005  Racing   \n",
       "1998   Need for Speed: Most Wanted       XB             2005  Racing   \n",
       "2048   Need for Speed: Most Wanted      PSV             2012  Racing   \n",
       "3581   Need for Speed: Most Wanted       GC             2005  Racing   \n",
       "5972   Need for Speed: Most Wanted       PC             2005  Racing   \n",
       "6273   Need for Speed: Most Wanted     WiiU             2013  Racing   \n",
       "6410   Need for Speed: Most Wanted       DS             2005  Racing   \n",
       "6473   Need for Speed: Most Wanted      GBA             2005  Racing   \n",
       "11715  Need for Speed: Most Wanted       PC             2012  Racing   \n",
       "\n",
       "       na_sales  eu_sales  jp_sales  other_sales  critic_score  user_score  \\\n",
       "253    2.029297  1.790039  0.080017     0.469971          82.0    9.101562   \n",
       "523    0.709961  1.459961  0.059998     0.580078           NaN         NaN   \n",
       "1190   0.620117  0.779785  0.010002     0.150024          83.0    8.500000   \n",
       "1591   1.000000  0.130005  0.020004     0.099976          83.0    8.500000   \n",
       "1998   0.529785  0.459961  0.000000     0.049988          83.0    8.796875   \n",
       "2048   0.330078  0.449951  0.010002     0.219971           NaN         NaN   \n",
       "3581   0.429932  0.109985  0.000000     0.020004          80.0    9.101562   \n",
       "5972   0.020004  0.229980  0.000000     0.040009          82.0    8.500000   \n",
       "6273   0.130005  0.119995  0.000000     0.020004           NaN         NaN   \n",
       "6410   0.239990  0.010002  0.000000     0.020004          45.0    6.101562   \n",
       "6473   0.189941  0.070007  0.000000     0.000000           NaN    8.296875   \n",
       "11715  0.000000  0.059998  0.000000     0.020004          82.0    8.500000   \n",
       "\n",
       "       rating  \n",
       "253       2.0  \n",
       "523       NaN  \n",
       "1190      2.0  \n",
       "1591      2.0  \n",
       "1998      2.0  \n",
       "2048      NaN  \n",
       "3581      2.0  \n",
       "5972      2.0  \n",
       "6273      NaN  \n",
       "6410      0.0  \n",
       "6473      0.0  \n",
       "11715     2.0  "
      ]
     },
     "execution_count": 18,
     "metadata": {},
     "output_type": "execute_result"
    }
   ],
   "source": [
    "games_without_tbd[games_without_tbd[\"name\"]==\"Need for Speed: Most Wanted\"]"
   ]
  },
  {
   "cell_type": "code",
   "execution_count": 19,
   "metadata": {},
   "outputs": [
    {
     "data": {
      "text/html": [
       "<div>\n",
       "<style scoped>\n",
       "    .dataframe tbody tr th:only-of-type {\n",
       "        vertical-align: middle;\n",
       "    }\n",
       "\n",
       "    .dataframe tbody tr th {\n",
       "        vertical-align: top;\n",
       "    }\n",
       "\n",
       "    .dataframe thead th {\n",
       "        text-align: right;\n",
       "    }\n",
       "</style>\n",
       "<table border=\"1\" class=\"dataframe\">\n",
       "  <thead>\n",
       "    <tr style=\"text-align: right;\">\n",
       "      <th></th>\n",
       "      <th>name</th>\n",
       "      <th>critic_score</th>\n",
       "      <th>rating</th>\n",
       "      <th>user_score</th>\n",
       "    </tr>\n",
       "  </thead>\n",
       "  <tbody>\n",
       "    <tr>\n",
       "      <th>0</th>\n",
       "      <td>Tales of Xillia 2</td>\n",
       "      <td>71.0</td>\n",
       "      <td>2.0</td>\n",
       "      <td>7.898438</td>\n",
       "    </tr>\n",
       "    <tr>\n",
       "      <th>1</th>\n",
       "      <td>.hack//Infection Part 1</td>\n",
       "      <td>75.0</td>\n",
       "      <td>2.0</td>\n",
       "      <td>8.500000</td>\n",
       "    </tr>\n",
       "    <tr>\n",
       "      <th>2</th>\n",
       "      <td>.hack//Mutation Part 2</td>\n",
       "      <td>76.0</td>\n",
       "      <td>2.0</td>\n",
       "      <td>8.898438</td>\n",
       "    </tr>\n",
       "    <tr>\n",
       "      <th>3</th>\n",
       "      <td>.hack//Outbreak Part 3</td>\n",
       "      <td>70.0</td>\n",
       "      <td>2.0</td>\n",
       "      <td>8.703125</td>\n",
       "    </tr>\n",
       "    <tr>\n",
       "      <th>4</th>\n",
       "      <td>007 Racing</td>\n",
       "      <td>51.0</td>\n",
       "      <td>2.0</td>\n",
       "      <td>4.601562</td>\n",
       "    </tr>\n",
       "    <tr>\n",
       "      <th>...</th>\n",
       "      <td>...</td>\n",
       "      <td>...</td>\n",
       "      <td>...</td>\n",
       "      <td>...</td>\n",
       "    </tr>\n",
       "    <tr>\n",
       "      <th>5942</th>\n",
       "      <td>thinkSMART</td>\n",
       "      <td>NaN</td>\n",
       "      <td>0.0</td>\n",
       "      <td>NaN</td>\n",
       "    </tr>\n",
       "    <tr>\n",
       "      <th>5943</th>\n",
       "      <td>thinkSMART FAMILY!</td>\n",
       "      <td>NaN</td>\n",
       "      <td>0.0</td>\n",
       "      <td>NaN</td>\n",
       "    </tr>\n",
       "    <tr>\n",
       "      <th>5944</th>\n",
       "      <td>thinkSMART: Chess for Kids</td>\n",
       "      <td>NaN</td>\n",
       "      <td>0.0</td>\n",
       "      <td>NaN</td>\n",
       "    </tr>\n",
       "    <tr>\n",
       "      <th>5945</th>\n",
       "      <td>uDraw Studio</td>\n",
       "      <td>71.0</td>\n",
       "      <td>0.0</td>\n",
       "      <td>NaN</td>\n",
       "    </tr>\n",
       "    <tr>\n",
       "      <th>5946</th>\n",
       "      <td>uDraw Studio: Instant Artist</td>\n",
       "      <td>54.0</td>\n",
       "      <td>0.0</td>\n",
       "      <td>5.699219</td>\n",
       "    </tr>\n",
       "  </tbody>\n",
       "</table>\n",
       "<p>5947 rows × 4 columns</p>\n",
       "</div>"
      ],
      "text/plain": [
       "                              name  critic_score  rating  user_score\n",
       "0                Tales of Xillia 2          71.0     2.0    7.898438\n",
       "1          .hack//Infection Part 1          75.0     2.0    8.500000\n",
       "2           .hack//Mutation Part 2          76.0     2.0    8.898438\n",
       "3           .hack//Outbreak Part 3          70.0     2.0    8.703125\n",
       "4                       007 Racing          51.0     2.0    4.601562\n",
       "...                            ...           ...     ...         ...\n",
       "5942                    thinkSMART           NaN     0.0         NaN\n",
       "5943            thinkSMART FAMILY!           NaN     0.0         NaN\n",
       "5944    thinkSMART: Chess for Kids           NaN     0.0         NaN\n",
       "5945                  uDraw Studio          71.0     0.0         NaN\n",
       "5946  uDraw Studio: Instant Artist          54.0     0.0    5.699219\n",
       "\n",
       "[5947 rows x 4 columns]"
      ]
     },
     "execution_count": 19,
     "metadata": {},
     "output_type": "execute_result"
    }
   ],
   "source": [
    "#найдем медианы critic_score, user_score и rating для игр (для rating лучше всего находить самое частое значение, \n",
    "#но я не знаю, как это сделать)\n",
    "games_with_scores = games_without_tbd.pivot_table(index=\"name\", \n",
    "                                                  values=[\"user_score\", \"critic_score\", \"rating\"], \n",
    "                                                  aggfunc=\"median\").reset_index()\n",
    "games_with_scores"
   ]
  },
  {
   "cell_type": "code",
   "execution_count": 20,
   "metadata": {},
   "outputs": [
    {
     "data": {
      "text/plain": [
       "0.0    2482\n",
       "2.0    1802\n",
       "1.0     848\n",
       "3.0     710\n",
       "1.5      23\n",
       "2.5      14\n",
       "6.0       5\n",
       "4.0       2\n",
       "Name: rating, dtype: int64"
      ]
     },
     "execution_count": 20,
     "metadata": {},
     "output_type": "execute_result"
    }
   ],
   "source": [
    "#посмотрим, какие получились значения rating \n",
    "games_with_scores.rating.value_counts()"
   ]
  },
  {
   "cell_type": "markdown",
   "metadata": {},
   "source": [
    "Значения 1.5 и 2.5 не подходят, т.к. это категориальные значения. Заменим их на 2, т.к. их гораздно больше чем 1 (в случае 1.5) или 3 (в случае 2.5)"
   ]
  },
  {
   "cell_type": "code",
   "execution_count": 21,
   "metadata": {},
   "outputs": [],
   "source": [
    "#Замена значений\n",
    "games_with_scores[(games_with_scores[\"rating\"]==1.5) | (games_with_scores[\"rating\"]==2.5)] = 2"
   ]
  },
  {
   "cell_type": "code",
   "execution_count": 22,
   "metadata": {},
   "outputs": [
    {
     "data": {
      "text/plain": [
       "0.0    2482\n",
       "2.0    1839\n",
       "1.0     848\n",
       "3.0     710\n",
       "6.0       5\n",
       "4.0       2\n",
       "Name: rating, dtype: int64"
      ]
     },
     "execution_count": 22,
     "metadata": {},
     "output_type": "execute_result"
    }
   ],
   "source": [
    "#посмотрим, какие получились значения rating теперь\n",
    "games_with_scores.rating.value_counts()"
   ]
  },
  {
   "cell_type": "code",
   "execution_count": 23,
   "metadata": {},
   "outputs": [
    {
     "data": {
      "text/html": [
       "<div>\n",
       "<style scoped>\n",
       "    .dataframe tbody tr th:only-of-type {\n",
       "        vertical-align: middle;\n",
       "    }\n",
       "\n",
       "    .dataframe tbody tr th {\n",
       "        vertical-align: top;\n",
       "    }\n",
       "\n",
       "    .dataframe thead th {\n",
       "        text-align: right;\n",
       "    }\n",
       "</style>\n",
       "<table border=\"1\" class=\"dataframe\">\n",
       "  <thead>\n",
       "    <tr style=\"text-align: right;\">\n",
       "      <th></th>\n",
       "      <th>name</th>\n",
       "      <th>critic_score_x</th>\n",
       "      <th>critic_score_y</th>\n",
       "      <th>user_score_x</th>\n",
       "      <th>user_score_y</th>\n",
       "      <th>rating_x</th>\n",
       "      <th>rating_y</th>\n",
       "    </tr>\n",
       "  </thead>\n",
       "  <tbody>\n",
       "    <tr>\n",
       "      <th>25</th>\n",
       "      <td>Need for Speed: Most Wanted</td>\n",
       "      <td>82.0</td>\n",
       "      <td>82.0</td>\n",
       "      <td>9.101562</td>\n",
       "      <td>8.5</td>\n",
       "      <td>2.0</td>\n",
       "      <td>2.0</td>\n",
       "    </tr>\n",
       "    <tr>\n",
       "      <th>26</th>\n",
       "      <td>Need for Speed: Most Wanted</td>\n",
       "      <td>NaN</td>\n",
       "      <td>82.0</td>\n",
       "      <td>NaN</td>\n",
       "      <td>8.5</td>\n",
       "      <td>NaN</td>\n",
       "      <td>2.0</td>\n",
       "    </tr>\n",
       "    <tr>\n",
       "      <th>27</th>\n",
       "      <td>Need for Speed: Most Wanted</td>\n",
       "      <td>83.0</td>\n",
       "      <td>82.0</td>\n",
       "      <td>8.500000</td>\n",
       "      <td>8.5</td>\n",
       "      <td>2.0</td>\n",
       "      <td>2.0</td>\n",
       "    </tr>\n",
       "    <tr>\n",
       "      <th>28</th>\n",
       "      <td>Need for Speed: Most Wanted</td>\n",
       "      <td>83.0</td>\n",
       "      <td>82.0</td>\n",
       "      <td>8.500000</td>\n",
       "      <td>8.5</td>\n",
       "      <td>2.0</td>\n",
       "      <td>2.0</td>\n",
       "    </tr>\n",
       "    <tr>\n",
       "      <th>29</th>\n",
       "      <td>Need for Speed: Most Wanted</td>\n",
       "      <td>83.0</td>\n",
       "      <td>82.0</td>\n",
       "      <td>8.796875</td>\n",
       "      <td>8.5</td>\n",
       "      <td>2.0</td>\n",
       "      <td>2.0</td>\n",
       "    </tr>\n",
       "    <tr>\n",
       "      <th>30</th>\n",
       "      <td>Need for Speed: Most Wanted</td>\n",
       "      <td>NaN</td>\n",
       "      <td>82.0</td>\n",
       "      <td>NaN</td>\n",
       "      <td>8.5</td>\n",
       "      <td>NaN</td>\n",
       "      <td>2.0</td>\n",
       "    </tr>\n",
       "    <tr>\n",
       "      <th>31</th>\n",
       "      <td>Need for Speed: Most Wanted</td>\n",
       "      <td>80.0</td>\n",
       "      <td>82.0</td>\n",
       "      <td>9.101562</td>\n",
       "      <td>8.5</td>\n",
       "      <td>2.0</td>\n",
       "      <td>2.0</td>\n",
       "    </tr>\n",
       "    <tr>\n",
       "      <th>32</th>\n",
       "      <td>Need for Speed: Most Wanted</td>\n",
       "      <td>82.0</td>\n",
       "      <td>82.0</td>\n",
       "      <td>8.500000</td>\n",
       "      <td>8.5</td>\n",
       "      <td>2.0</td>\n",
       "      <td>2.0</td>\n",
       "    </tr>\n",
       "    <tr>\n",
       "      <th>33</th>\n",
       "      <td>Need for Speed: Most Wanted</td>\n",
       "      <td>NaN</td>\n",
       "      <td>82.0</td>\n",
       "      <td>NaN</td>\n",
       "      <td>8.5</td>\n",
       "      <td>NaN</td>\n",
       "      <td>2.0</td>\n",
       "    </tr>\n",
       "    <tr>\n",
       "      <th>34</th>\n",
       "      <td>Need for Speed: Most Wanted</td>\n",
       "      <td>45.0</td>\n",
       "      <td>82.0</td>\n",
       "      <td>6.101562</td>\n",
       "      <td>8.5</td>\n",
       "      <td>0.0</td>\n",
       "      <td>2.0</td>\n",
       "    </tr>\n",
       "    <tr>\n",
       "      <th>35</th>\n",
       "      <td>Need for Speed: Most Wanted</td>\n",
       "      <td>NaN</td>\n",
       "      <td>82.0</td>\n",
       "      <td>8.296875</td>\n",
       "      <td>8.5</td>\n",
       "      <td>0.0</td>\n",
       "      <td>2.0</td>\n",
       "    </tr>\n",
       "    <tr>\n",
       "      <th>36</th>\n",
       "      <td>Need for Speed: Most Wanted</td>\n",
       "      <td>82.0</td>\n",
       "      <td>82.0</td>\n",
       "      <td>8.500000</td>\n",
       "      <td>8.5</td>\n",
       "      <td>2.0</td>\n",
       "      <td>2.0</td>\n",
       "    </tr>\n",
       "  </tbody>\n",
       "</table>\n",
       "</div>"
      ],
      "text/plain": [
       "                           name  critic_score_x  critic_score_y  user_score_x  \\\n",
       "25  Need for Speed: Most Wanted            82.0            82.0      9.101562   \n",
       "26  Need for Speed: Most Wanted             NaN            82.0           NaN   \n",
       "27  Need for Speed: Most Wanted            83.0            82.0      8.500000   \n",
       "28  Need for Speed: Most Wanted            83.0            82.0      8.500000   \n",
       "29  Need for Speed: Most Wanted            83.0            82.0      8.796875   \n",
       "30  Need for Speed: Most Wanted             NaN            82.0           NaN   \n",
       "31  Need for Speed: Most Wanted            80.0            82.0      9.101562   \n",
       "32  Need for Speed: Most Wanted            82.0            82.0      8.500000   \n",
       "33  Need for Speed: Most Wanted             NaN            82.0           NaN   \n",
       "34  Need for Speed: Most Wanted            45.0            82.0      6.101562   \n",
       "35  Need for Speed: Most Wanted             NaN            82.0      8.296875   \n",
       "36  Need for Speed: Most Wanted            82.0            82.0      8.500000   \n",
       "\n",
       "    user_score_y  rating_x  rating_y  \n",
       "25           8.5       2.0       2.0  \n",
       "26           8.5       NaN       2.0  \n",
       "27           8.5       2.0       2.0  \n",
       "28           8.5       2.0       2.0  \n",
       "29           8.5       2.0       2.0  \n",
       "30           8.5       NaN       2.0  \n",
       "31           8.5       2.0       2.0  \n",
       "32           8.5       2.0       2.0  \n",
       "33           8.5       NaN       2.0  \n",
       "34           8.5       0.0       2.0  \n",
       "35           8.5       0.0       2.0  \n",
       "36           8.5       2.0       2.0  "
      ]
     },
     "execution_count": 23,
     "metadata": {},
     "output_type": "execute_result"
    }
   ],
   "source": [
    "#объеденим данные и посмотрим, что получилось на примере игры NFS\n",
    "merge_games = games_without_tbd.merge(games_with_scores, on=\"name\", how=\"outer\")\n",
    "merge_games[merge_games[\"name\"]==\"Need for Speed: Most Wanted\"][[\"name\", \n",
    "                                                                 \"critic_score_x\", \"critic_score_y\", \n",
    "                                                                 \"user_score_x\", \"user_score_y\", \n",
    "                                                                 \"rating_x\", \"rating_y\"]]"
   ]
  },
  {
   "cell_type": "code",
   "execution_count": 24,
   "metadata": {},
   "outputs": [
    {
     "data": {
      "text/html": [
       "<div>\n",
       "<style scoped>\n",
       "    .dataframe tbody tr th:only-of-type {\n",
       "        vertical-align: middle;\n",
       "    }\n",
       "\n",
       "    .dataframe tbody tr th {\n",
       "        vertical-align: top;\n",
       "    }\n",
       "\n",
       "    .dataframe thead th {\n",
       "        text-align: right;\n",
       "    }\n",
       "</style>\n",
       "<table border=\"1\" class=\"dataframe\">\n",
       "  <thead>\n",
       "    <tr style=\"text-align: right;\">\n",
       "      <th></th>\n",
       "      <th>name</th>\n",
       "      <th>critic_score_x</th>\n",
       "      <th>critic_score_y</th>\n",
       "      <th>user_score_x</th>\n",
       "      <th>user_score_y</th>\n",
       "    </tr>\n",
       "  </thead>\n",
       "  <tbody>\n",
       "    <tr>\n",
       "      <th>25</th>\n",
       "      <td>Need for Speed: Most Wanted</td>\n",
       "      <td>82.0</td>\n",
       "      <td>82.0</td>\n",
       "      <td>9.101562</td>\n",
       "      <td>8.5</td>\n",
       "    </tr>\n",
       "    <tr>\n",
       "      <th>26</th>\n",
       "      <td>Need for Speed: Most Wanted</td>\n",
       "      <td>82.0</td>\n",
       "      <td>82.0</td>\n",
       "      <td>8.500000</td>\n",
       "      <td>8.5</td>\n",
       "    </tr>\n",
       "    <tr>\n",
       "      <th>27</th>\n",
       "      <td>Need for Speed: Most Wanted</td>\n",
       "      <td>83.0</td>\n",
       "      <td>82.0</td>\n",
       "      <td>8.500000</td>\n",
       "      <td>8.5</td>\n",
       "    </tr>\n",
       "    <tr>\n",
       "      <th>28</th>\n",
       "      <td>Need for Speed: Most Wanted</td>\n",
       "      <td>83.0</td>\n",
       "      <td>82.0</td>\n",
       "      <td>8.500000</td>\n",
       "      <td>8.5</td>\n",
       "    </tr>\n",
       "    <tr>\n",
       "      <th>29</th>\n",
       "      <td>Need for Speed: Most Wanted</td>\n",
       "      <td>83.0</td>\n",
       "      <td>82.0</td>\n",
       "      <td>8.796875</td>\n",
       "      <td>8.5</td>\n",
       "    </tr>\n",
       "    <tr>\n",
       "      <th>30</th>\n",
       "      <td>Need for Speed: Most Wanted</td>\n",
       "      <td>82.0</td>\n",
       "      <td>82.0</td>\n",
       "      <td>8.500000</td>\n",
       "      <td>8.5</td>\n",
       "    </tr>\n",
       "    <tr>\n",
       "      <th>31</th>\n",
       "      <td>Need for Speed: Most Wanted</td>\n",
       "      <td>80.0</td>\n",
       "      <td>82.0</td>\n",
       "      <td>9.101562</td>\n",
       "      <td>8.5</td>\n",
       "    </tr>\n",
       "    <tr>\n",
       "      <th>32</th>\n",
       "      <td>Need for Speed: Most Wanted</td>\n",
       "      <td>82.0</td>\n",
       "      <td>82.0</td>\n",
       "      <td>8.500000</td>\n",
       "      <td>8.5</td>\n",
       "    </tr>\n",
       "    <tr>\n",
       "      <th>33</th>\n",
       "      <td>Need for Speed: Most Wanted</td>\n",
       "      <td>82.0</td>\n",
       "      <td>82.0</td>\n",
       "      <td>8.500000</td>\n",
       "      <td>8.5</td>\n",
       "    </tr>\n",
       "    <tr>\n",
       "      <th>34</th>\n",
       "      <td>Need for Speed: Most Wanted</td>\n",
       "      <td>45.0</td>\n",
       "      <td>82.0</td>\n",
       "      <td>6.101562</td>\n",
       "      <td>8.5</td>\n",
       "    </tr>\n",
       "    <tr>\n",
       "      <th>35</th>\n",
       "      <td>Need for Speed: Most Wanted</td>\n",
       "      <td>82.0</td>\n",
       "      <td>82.0</td>\n",
       "      <td>8.296875</td>\n",
       "      <td>8.5</td>\n",
       "    </tr>\n",
       "    <tr>\n",
       "      <th>36</th>\n",
       "      <td>Need for Speed: Most Wanted</td>\n",
       "      <td>82.0</td>\n",
       "      <td>82.0</td>\n",
       "      <td>8.500000</td>\n",
       "      <td>8.5</td>\n",
       "    </tr>\n",
       "  </tbody>\n",
       "</table>\n",
       "</div>"
      ],
      "text/plain": [
       "                           name  critic_score_x  critic_score_y  user_score_x  \\\n",
       "25  Need for Speed: Most Wanted            82.0            82.0      9.101562   \n",
       "26  Need for Speed: Most Wanted            82.0            82.0      8.500000   \n",
       "27  Need for Speed: Most Wanted            83.0            82.0      8.500000   \n",
       "28  Need for Speed: Most Wanted            83.0            82.0      8.500000   \n",
       "29  Need for Speed: Most Wanted            83.0            82.0      8.796875   \n",
       "30  Need for Speed: Most Wanted            82.0            82.0      8.500000   \n",
       "31  Need for Speed: Most Wanted            80.0            82.0      9.101562   \n",
       "32  Need for Speed: Most Wanted            82.0            82.0      8.500000   \n",
       "33  Need for Speed: Most Wanted            82.0            82.0      8.500000   \n",
       "34  Need for Speed: Most Wanted            45.0            82.0      6.101562   \n",
       "35  Need for Speed: Most Wanted            82.0            82.0      8.296875   \n",
       "36  Need for Speed: Most Wanted            82.0            82.0      8.500000   \n",
       "\n",
       "    user_score_y  \n",
       "25           8.5  \n",
       "26           8.5  \n",
       "27           8.5  \n",
       "28           8.5  \n",
       "29           8.5  \n",
       "30           8.5  \n",
       "31           8.5  \n",
       "32           8.5  \n",
       "33           8.5  \n",
       "34           8.5  \n",
       "35           8.5  \n",
       "36           8.5  "
      ]
     },
     "execution_count": 24,
     "metadata": {},
     "output_type": "execute_result"
    }
   ],
   "source": [
    "#Как видно на примере NFS, данные успешно восстановлены. Теперь заменим nan на полученные значения\n",
    "merge_games[\"critic_score_x\"] = merge_games[\"critic_score_x\"].fillna(merge_games.critic_score_y)\n",
    "merge_games[\"user_score_x\"] = merge_games[\"user_score_x\"].fillna(merge_games.user_score_y)\n",
    "merge_games[\"rating_x\"] = merge_games[\"rating_x\"].fillna(merge_games.rating_y)\n",
    "merge_games[merge_games[\"name\"] == \"Need for Speed: Most Wanted\"][[\"name\", \n",
    "                                                                   \"critic_score_x\", \"critic_score_y\", \n",
    "                                                                   \"user_score_x\",\"user_score_y\"]]"
   ]
  },
  {
   "cell_type": "code",
   "execution_count": 25,
   "metadata": {},
   "outputs": [
    {
     "data": {
      "text/html": [
       "<div>\n",
       "<style scoped>\n",
       "    .dataframe tbody tr th:only-of-type {\n",
       "        vertical-align: middle;\n",
       "    }\n",
       "\n",
       "    .dataframe tbody tr th {\n",
       "        vertical-align: top;\n",
       "    }\n",
       "\n",
       "    .dataframe thead th {\n",
       "        text-align: right;\n",
       "    }\n",
       "</style>\n",
       "<table border=\"1\" class=\"dataframe\">\n",
       "  <thead>\n",
       "    <tr style=\"text-align: right;\">\n",
       "      <th></th>\n",
       "      <th>name</th>\n",
       "      <th>platform</th>\n",
       "      <th>year_of_release</th>\n",
       "      <th>genre</th>\n",
       "      <th>na_sales</th>\n",
       "      <th>eu_sales</th>\n",
       "      <th>jp_sales</th>\n",
       "      <th>other_sales</th>\n",
       "      <th>critic_score</th>\n",
       "      <th>user_score</th>\n",
       "      <th>rating</th>\n",
       "    </tr>\n",
       "  </thead>\n",
       "  <tbody>\n",
       "    <tr>\n",
       "      <th>0</th>\n",
       "      <td>Mario Kart: Super Circuit</td>\n",
       "      <td>GBA</td>\n",
       "      <td>2001.0</td>\n",
       "      <td>Racing</td>\n",
       "      <td>2.619141</td>\n",
       "      <td>1.639648</td>\n",
       "      <td>0.990234</td>\n",
       "      <td>0.229980</td>\n",
       "      <td>93.0</td>\n",
       "      <td>8.296875</td>\n",
       "      <td>0.0</td>\n",
       "    </tr>\n",
       "    <tr>\n",
       "      <th>1</th>\n",
       "      <td>The Legend of Zelda: Phantom Hourglass</td>\n",
       "      <td>DS</td>\n",
       "      <td>2007.0</td>\n",
       "      <td>Action</td>\n",
       "      <td>1.849609</td>\n",
       "      <td>1.799805</td>\n",
       "      <td>0.950195</td>\n",
       "      <td>0.479980</td>\n",
       "      <td>90.0</td>\n",
       "      <td>8.000000</td>\n",
       "      <td>0.0</td>\n",
       "    </tr>\n",
       "    <tr>\n",
       "      <th>2</th>\n",
       "      <td>Super Smash Bros. for Wii U and 3DS</td>\n",
       "      <td>WiiU</td>\n",
       "      <td>2014.0</td>\n",
       "      <td>Fighting</td>\n",
       "      <td>2.599609</td>\n",
       "      <td>1.080078</td>\n",
       "      <td>0.810059</td>\n",
       "      <td>0.379883</td>\n",
       "      <td>NaN</td>\n",
       "      <td>NaN</td>\n",
       "      <td>NaN</td>\n",
       "    </tr>\n",
       "    <tr>\n",
       "      <th>3</th>\n",
       "      <td>StarCraft II: Wings of Liberty</td>\n",
       "      <td>PC</td>\n",
       "      <td>2010.0</td>\n",
       "      <td>Strategy</td>\n",
       "      <td>2.570312</td>\n",
       "      <td>1.679688</td>\n",
       "      <td>0.000000</td>\n",
       "      <td>0.580078</td>\n",
       "      <td>93.0</td>\n",
       "      <td>8.203125</td>\n",
       "      <td>2.0</td>\n",
       "    </tr>\n",
       "    <tr>\n",
       "      <th>4</th>\n",
       "      <td>God of War III</td>\n",
       "      <td>PS3</td>\n",
       "      <td>2010.0</td>\n",
       "      <td>Action</td>\n",
       "      <td>2.740234</td>\n",
       "      <td>1.330078</td>\n",
       "      <td>0.119995</td>\n",
       "      <td>0.609863</td>\n",
       "      <td>92.0</td>\n",
       "      <td>8.703125</td>\n",
       "      <td>1.0</td>\n",
       "    </tr>\n",
       "  </tbody>\n",
       "</table>\n",
       "</div>"
      ],
      "text/plain": [
       "                                     name platform  year_of_release     genre  \\\n",
       "0               Mario Kart: Super Circuit      GBA           2001.0    Racing   \n",
       "1  The Legend of Zelda: Phantom Hourglass       DS           2007.0    Action   \n",
       "2     Super Smash Bros. for Wii U and 3DS     WiiU           2014.0  Fighting   \n",
       "3          StarCraft II: Wings of Liberty       PC           2010.0  Strategy   \n",
       "4                          God of War III      PS3           2010.0    Action   \n",
       "\n",
       "   na_sales  eu_sales  jp_sales  other_sales  critic_score  user_score  rating  \n",
       "0  2.619141  1.639648  0.990234     0.229980          93.0    8.296875     0.0  \n",
       "1  1.849609  1.799805  0.950195     0.479980          90.0    8.000000     0.0  \n",
       "2  2.599609  1.080078  0.810059     0.379883           NaN         NaN     NaN  \n",
       "3  2.570312  1.679688  0.000000     0.580078          93.0    8.203125     2.0  \n",
       "4  2.740234  1.330078  0.119995     0.609863          92.0    8.703125     1.0  "
      ]
     },
     "execution_count": 25,
     "metadata": {},
     "output_type": "execute_result"
    }
   ],
   "source": [
    "#удалим дополнительные столбцы и переименуем user_score_x и critic_score_x в таблице merge_games\n",
    "merge_games = merge_games.drop([\"user_score_y\", \"critic_score_y\", \"rating_y\"], axis=1)\n",
    "merge_games = merge_games.rename(columns={'user_score_x' : 'user_score', \n",
    "                                          'critic_score_x' : 'critic_score', \n",
    "                                          'rating_x' : 'rating'})\n",
    "merge_games.head()"
   ]
  },
  {
   "cell_type": "code",
   "execution_count": 26,
   "metadata": {},
   "outputs": [
    {
     "name": "stdout",
     "output_type": "stream",
     "text": [
      "<class 'pandas.core.frame.DataFrame'>\n",
      "Int64Index: 16050 entries, 166 to 16714\n",
      "Data columns (total 11 columns):\n",
      " #   Column           Non-Null Count  Dtype  \n",
      "---  ------           --------------  -----  \n",
      " 0   name             16050 non-null  object \n",
      " 1   platform         16050 non-null  object \n",
      " 2   year_of_release  16050 non-null  int16  \n",
      " 3   genre            16050 non-null  object \n",
      " 4   na_sales         16050 non-null  float16\n",
      " 5   eu_sales         16050 non-null  float16\n",
      " 6   jp_sales         16050 non-null  float16\n",
      " 7   other_sales      16050 non-null  float16\n",
      " 8   critic_score     7754 non-null   float64\n",
      " 9   user_score       7228 non-null   float16\n",
      " 10  rating           9529 non-null   float16\n",
      "dtypes: float16(6), float64(1), int16(1), object(3)\n",
      "memory usage: 846.4+ KB\n"
     ]
    }
   ],
   "source": [
    "#посмотрим на старые значения (с пропусками)\n",
    "games_without_tbd.info()"
   ]
  },
  {
   "cell_type": "code",
   "execution_count": 27,
   "metadata": {},
   "outputs": [
    {
     "name": "stdout",
     "output_type": "stream",
     "text": [
      "<class 'pandas.core.frame.DataFrame'>\n",
      "Int64Index: 16087 entries, 0 to 16086\n",
      "Data columns (total 11 columns):\n",
      " #   Column           Non-Null Count  Dtype  \n",
      "---  ------           --------------  -----  \n",
      " 0   name             16087 non-null  object \n",
      " 1   platform         16050 non-null  object \n",
      " 2   year_of_release  16050 non-null  float64\n",
      " 3   genre            16050 non-null  object \n",
      " 4   na_sales         16050 non-null  float16\n",
      " 5   eu_sales         16050 non-null  float16\n",
      " 6   jp_sales         16050 non-null  float16\n",
      " 7   other_sales      16050 non-null  float16\n",
      " 8   critic_score     8682 non-null   float64\n",
      " 9   user_score       8274 non-null   float16\n",
      " 10  rating           9955 non-null   float16\n",
      "dtypes: float16(6), float64(2), object(3)\n",
      "memory usage: 942.6+ KB\n"
     ]
    }
   ],
   "source": [
    "#посмотрим на количество пропусков теперь \n",
    "merge_games.info()"
   ]
  },
  {
   "cell_type": "code",
   "execution_count": 28,
   "metadata": {},
   "outputs": [],
   "source": [
    "#как видим, мы восстановили ~1000 значений. Для удобства переименуем merge_games\n",
    "#в data. Добавим новый столбец - сумма по всем регионам\n",
    "data = merge_games.copy()\n",
    "data[\"sum_regions\"] = data.other_sales + data.na_sales + data.jp_sales + merge_games.eu_sales"
   ]
  },
  {
   "cell_type": "code",
   "execution_count": 29,
   "metadata": {},
   "outputs": [
    {
     "data": {
      "text/html": [
       "<div>\n",
       "<style scoped>\n",
       "    .dataframe tbody tr th:only-of-type {\n",
       "        vertical-align: middle;\n",
       "    }\n",
       "\n",
       "    .dataframe tbody tr th {\n",
       "        vertical-align: top;\n",
       "    }\n",
       "\n",
       "    .dataframe thead th {\n",
       "        text-align: right;\n",
       "    }\n",
       "</style>\n",
       "<table border=\"1\" class=\"dataframe\">\n",
       "  <thead>\n",
       "    <tr style=\"text-align: right;\">\n",
       "      <th></th>\n",
       "      <th>name</th>\n",
       "      <th>platform</th>\n",
       "      <th>year_of_release</th>\n",
       "      <th>genre</th>\n",
       "      <th>na_sales</th>\n",
       "      <th>eu_sales</th>\n",
       "      <th>jp_sales</th>\n",
       "      <th>other_sales</th>\n",
       "      <th>critic_score</th>\n",
       "      <th>user_score</th>\n",
       "      <th>rating</th>\n",
       "      <th>sum_regions</th>\n",
       "    </tr>\n",
       "  </thead>\n",
       "  <tbody>\n",
       "    <tr>\n",
       "      <th>0</th>\n",
       "      <td>Mario Kart: Super Circuit</td>\n",
       "      <td>GBA</td>\n",
       "      <td>2001.0</td>\n",
       "      <td>Racing</td>\n",
       "      <td>2.619141</td>\n",
       "      <td>1.639648</td>\n",
       "      <td>0.990234</td>\n",
       "      <td>0.229980</td>\n",
       "      <td>93.0</td>\n",
       "      <td>8.296875</td>\n",
       "      <td>0.0</td>\n",
       "      <td>5.480469</td>\n",
       "    </tr>\n",
       "    <tr>\n",
       "      <th>1</th>\n",
       "      <td>The Legend of Zelda: Phantom Hourglass</td>\n",
       "      <td>DS</td>\n",
       "      <td>2007.0</td>\n",
       "      <td>Action</td>\n",
       "      <td>1.849609</td>\n",
       "      <td>1.799805</td>\n",
       "      <td>0.950195</td>\n",
       "      <td>0.479980</td>\n",
       "      <td>90.0</td>\n",
       "      <td>8.000000</td>\n",
       "      <td>0.0</td>\n",
       "      <td>5.082031</td>\n",
       "    </tr>\n",
       "    <tr>\n",
       "      <th>2</th>\n",
       "      <td>Super Smash Bros. for Wii U and 3DS</td>\n",
       "      <td>WiiU</td>\n",
       "      <td>2014.0</td>\n",
       "      <td>Fighting</td>\n",
       "      <td>2.599609</td>\n",
       "      <td>1.080078</td>\n",
       "      <td>0.810059</td>\n",
       "      <td>0.379883</td>\n",
       "      <td>NaN</td>\n",
       "      <td>NaN</td>\n",
       "      <td>NaN</td>\n",
       "      <td>4.871094</td>\n",
       "    </tr>\n",
       "    <tr>\n",
       "      <th>3</th>\n",
       "      <td>StarCraft II: Wings of Liberty</td>\n",
       "      <td>PC</td>\n",
       "      <td>2010.0</td>\n",
       "      <td>Strategy</td>\n",
       "      <td>2.570312</td>\n",
       "      <td>1.679688</td>\n",
       "      <td>0.000000</td>\n",
       "      <td>0.580078</td>\n",
       "      <td>93.0</td>\n",
       "      <td>8.203125</td>\n",
       "      <td>2.0</td>\n",
       "      <td>4.828125</td>\n",
       "    </tr>\n",
       "    <tr>\n",
       "      <th>4</th>\n",
       "      <td>God of War III</td>\n",
       "      <td>PS3</td>\n",
       "      <td>2010.0</td>\n",
       "      <td>Action</td>\n",
       "      <td>2.740234</td>\n",
       "      <td>1.330078</td>\n",
       "      <td>0.119995</td>\n",
       "      <td>0.609863</td>\n",
       "      <td>92.0</td>\n",
       "      <td>8.703125</td>\n",
       "      <td>1.0</td>\n",
       "      <td>4.796875</td>\n",
       "    </tr>\n",
       "  </tbody>\n",
       "</table>\n",
       "</div>"
      ],
      "text/plain": [
       "                                     name platform  year_of_release     genre  \\\n",
       "0               Mario Kart: Super Circuit      GBA           2001.0    Racing   \n",
       "1  The Legend of Zelda: Phantom Hourglass       DS           2007.0    Action   \n",
       "2     Super Smash Bros. for Wii U and 3DS     WiiU           2014.0  Fighting   \n",
       "3          StarCraft II: Wings of Liberty       PC           2010.0  Strategy   \n",
       "4                          God of War III      PS3           2010.0    Action   \n",
       "\n",
       "   na_sales  eu_sales  jp_sales  other_sales  critic_score  user_score  \\\n",
       "0  2.619141  1.639648  0.990234     0.229980          93.0    8.296875   \n",
       "1  1.849609  1.799805  0.950195     0.479980          90.0    8.000000   \n",
       "2  2.599609  1.080078  0.810059     0.379883           NaN         NaN   \n",
       "3  2.570312  1.679688  0.000000     0.580078          93.0    8.203125   \n",
       "4  2.740234  1.330078  0.119995     0.609863          92.0    8.703125   \n",
       "\n",
       "   rating  sum_regions  \n",
       "0     0.0     5.480469  \n",
       "1     0.0     5.082031  \n",
       "2     NaN     4.871094  \n",
       "3     2.0     4.828125  \n",
       "4     1.0     4.796875  "
      ]
     },
     "execution_count": 29,
     "metadata": {},
     "output_type": "execute_result"
    }
   ],
   "source": [
    "data.head()"
   ]
  },
  {
   "cell_type": "markdown",
   "metadata": {},
   "source": [
    "## Шаг 4. Проведите исследовательский анализ данных\n",
    "\n",
    "### 1. Посмотрите, сколько игр выпускалось в разные годы. Важны ли данные за все периоды?"
   ]
  },
  {
   "cell_type": "code",
   "execution_count": 30,
   "metadata": {},
   "outputs": [
    {
     "data": {
      "text/plain": [
       "<AxesSubplot:xlabel='year_of_release', ylabel='count'>"
      ]
     },
     "execution_count": 30,
     "metadata": {},
     "output_type": "execute_result"
    },
    {
     "data": {
      "image/png": "[encoded data removed]",
      "text/plain": [
       "<Figure size 1080x288 with 1 Axes>"
      ]
     },
     "metadata": {},
     "output_type": "display_data"
    }
   ],
   "source": [
    "fig, ax = plt.subplots(figsize=(15, 4))\n",
    "plt.xticks(rotation=45)\n",
    "sns.countplot(data=data, x='year_of_release', ax=ax)"
   ]
  },
  {
   "cell_type": "markdown",
   "metadata": {},
   "source": [
    "Как видно, можно отбросить данные до 1990 года. \n",
    "\n",
    "### 2. Посмотрите, как менялись продажи по платформам. Выберите платформы с наибольшими суммарными продажами и постройте распределение по годам. Найдите популярные в прошлом платформы, у которых сейчас продажи на нуле. За какой характерный период появляются новые и исчезают старые платформы?"
   ]
  },
  {
   "cell_type": "code",
   "execution_count": 31,
   "metadata": {},
   "outputs": [
    {
     "data": {
      "text/plain": [
       "['PS2', 'PS3', 'X360', 'PS', 'DS', 'Wii', 'GBA', 'PSP', 'XB', 'PC']"
      ]
     },
     "execution_count": 31,
     "metadata": {},
     "output_type": "execute_result"
    }
   ],
   "source": [
    "data = data[data[\"year_of_release\"] > 1990]\n",
    "#найдем самые прибыльные платформы\n",
    "popular_platfs = data.pivot_table(index=\"platform\", values=\"sum_regions\", aggfunc=\"sum\")\\\n",
    ".sort_values(\"sum_regions\", ascending=False).reset_index().head(10)\n",
    "list(popular_platfs.platform)"
   ]
  },
  {
   "cell_type": "code",
   "execution_count": 32,
   "metadata": {},
   "outputs": [
    {
     "data": {
      "text/plain": [
       "<AxesSubplot:xlabel='year_of_release', ylabel='sum_regions'>"
      ]
     },
     "execution_count": 32,
     "metadata": {},
     "output_type": "execute_result"
    },
    {
     "data": {
      "image/png": "[encoded data removed]",
      "text/plain": [
       "<Figure size 1080x288 with 1 Axes>"
      ]
     },
     "metadata": {},
     "output_type": "display_data"
    }
   ],
   "source": [
    "#сгрупируем данные по платформе и году и построим график\n",
    "fig, ax = plt.subplots(figsize=(15, 4))\n",
    "data_year_platf = data[data[\"platform\"].isin(list(popular_platfs.platform))]\\\n",
    "                                    .pivot_table(index=[\"platform\", \"year_of_release\"],\n",
    "                                                 values=\"sum_regions\", \n",
    "                                                 aggfunc=\"sum\")\n",
    "sns.lineplot(x=\"year_of_release\", y=\"sum_regions\", hue=\"platform\", data=data_year_platf, estimator=None, ax=ax)\n"
   ]
  },
  {
   "cell_type": "markdown",
   "metadata": {},
   "source": [
    "На графике видно, что каждая платформа, в среднем, \"живет\" 10 лет. Однако, к 2016 году продажи почти для всех платформ падают. Устаревшие платформы - PS, GBA, PS2, DS, PSP.\n",
    "\n",
    "### 3-4. Определите, данные за какой период нужно взять, чтобы исключить значимое искажение распределения по платформам в 2016 году. Далее работайте только с данными, которые вы определили. Не учитывайте данные за предыдущие годы.\n",
    "Т.к. каждый год ситуация меняется, возьмём данные за 2015-2016 год.\n",
    "\n",
    "### 5-6. Какие платформы лидируют по продажам, растут или падают? Выберите несколько потенциально прибыльных платформ. Постройте график «ящик с усами» по глобальным продажам каждой игры и разбивкой по платформам. Велика ли разница в продажах? А в средних продажах на разных платформах? Опишите результат."
   ]
  },
  {
   "cell_type": "code",
   "execution_count": 33,
   "metadata": {},
   "outputs": [
    {
     "data": {
      "text/plain": [
       "['PS4', 'XOne', '3DS', 'PS3', 'WiiU', 'PC', 'X360', 'PSV', 'Wii', 'PSP']"
      ]
     },
     "execution_count": 33,
     "metadata": {},
     "output_type": "execute_result"
    }
   ],
   "source": [
    "data_2015 = data[data[\"year_of_release\"] >= 2015]\n",
    "#найдем самые прибыльные платформы\n",
    "popular_platfs2015 = data_2015.pivot_table(index=\"platform\", \n",
    "                                           values=\"sum_regions\", \n",
    "                                           aggfunc=\"sum\").sort_values(\"sum_regions\", ascending=False).reset_index().head(10)\n",
    "list(popular_platfs2015.platform)"
   ]
  },
  {
   "cell_type": "code",
   "execution_count": 34,
   "metadata": {},
   "outputs": [
    {
     "data": {
      "text/plain": [
       "<AxesSubplot:xlabel='year_of_release', ylabel='sum_regions'>"
      ]
     },
     "execution_count": 34,
     "metadata": {},
     "output_type": "execute_result"
    },
    {
     "data": {
      "image/png": "[encoded data removed]",
      "text/plain": [
       "<Figure size 720x288 with 1 Axes>"
      ]
     },
     "metadata": {},
     "output_type": "display_data"
    }
   ],
   "source": [
    "#сгрупируем данные по платформе и году и построим график для новых данных\n",
    "fig, ax = plt.subplots(figsize=(10, 4))\n",
    "data_year_platf2015 = data_2015[data_2015[\"platform\"].isin(list(popular_platfs2015.platform))]\\\n",
    "                                    .pivot_table(index=[\"platform\", \"year_of_release\"],\n",
    "                                                 values=\"sum_regions\", \n",
    "                                                 aggfunc=\"sum\")\n",
    "sns.lineplot(x=\"year_of_release\", y=\"sum_regions\", hue=\"platform\", data=data_year_platf2015, estimator=None, ax=ax)"
   ]
  },
  {
   "cell_type": "code",
   "execution_count": 35,
   "metadata": {},
   "outputs": [
    {
     "data": {
      "text/plain": [
       "<AxesSubplot:xlabel='sum_regions', ylabel='platform'>"
      ]
     },
     "execution_count": 35,
     "metadata": {},
     "output_type": "execute_result"
    },
    {
     "data": {
      "image/png": "[encoded data removed]",
      "text/plain": [
       "<Figure size 1080x504 with 1 Axes>"
      ]
     },
     "metadata": {},
     "output_type": "display_data"
    }
   ],
   "source": [
    "fig, ax = plt.subplots(figsize=(15, 7))\n",
    "sns.boxplot(y=\"platform\", x=\"sum_regions\", data=data_2015, ax=ax, orient=\"h\")"
   ]
  },
  {
   "cell_type": "markdown",
   "metadata": {},
   "source": [
    "Значения примерно равны для WiiU, PS4, Xone, X360. Высокое значение 3 квартиля для Wii, однако, если посмотреть на график, то видно, что она уступает. Посмотрим, с чем это связано."
   ]
  },
  {
   "cell_type": "code",
   "execution_count": 36,
   "metadata": {},
   "outputs": [
    {
     "data": {
      "text/html": [
       "<div>\n",
       "<style scoped>\n",
       "    .dataframe tbody tr th:only-of-type {\n",
       "        vertical-align: middle;\n",
       "    }\n",
       "\n",
       "    .dataframe tbody tr th {\n",
       "        vertical-align: top;\n",
       "    }\n",
       "\n",
       "    .dataframe thead th {\n",
       "        text-align: right;\n",
       "    }\n",
       "</style>\n",
       "<table border=\"1\" class=\"dataframe\">\n",
       "  <thead>\n",
       "    <tr style=\"text-align: right;\">\n",
       "      <th></th>\n",
       "      <th>platform</th>\n",
       "      <th>sum</th>\n",
       "      <th>count</th>\n",
       "      <th>sum_by_one_game</th>\n",
       "    </tr>\n",
       "  </thead>\n",
       "  <tbody>\n",
       "    <tr>\n",
       "      <th>9</th>\n",
       "      <td>XOne</td>\n",
       "      <td>73.000000</td>\n",
       "      <td>164</td>\n",
       "      <td>0.445122</td>\n",
       "    </tr>\n",
       "    <tr>\n",
       "      <th>7</th>\n",
       "      <td>WiiU</td>\n",
       "      <td>16.515625</td>\n",
       "      <td>41</td>\n",
       "      <td>0.402820</td>\n",
       "    </tr>\n",
       "    <tr>\n",
       "      <th>3</th>\n",
       "      <td>PS4</td>\n",
       "      <td>108.437500</td>\n",
       "      <td>288</td>\n",
       "      <td>0.376519</td>\n",
       "    </tr>\n",
       "    <tr>\n",
       "      <th>8</th>\n",
       "      <td>X360</td>\n",
       "      <td>13.484375</td>\n",
       "      <td>48</td>\n",
       "      <td>0.280924</td>\n",
       "    </tr>\n",
       "    <tr>\n",
       "      <th>6</th>\n",
       "      <td>Wii</td>\n",
       "      <td>1.320312</td>\n",
       "      <td>5</td>\n",
       "      <td>0.264062</td>\n",
       "    </tr>\n",
       "    <tr>\n",
       "      <th>0</th>\n",
       "      <td>3DS</td>\n",
       "      <td>25.796875</td>\n",
       "      <td>127</td>\n",
       "      <td>0.203125</td>\n",
       "    </tr>\n",
       "    <tr>\n",
       "      <th>2</th>\n",
       "      <td>PS3</td>\n",
       "      <td>20.421875</td>\n",
       "      <td>111</td>\n",
       "      <td>0.183981</td>\n",
       "    </tr>\n",
       "    <tr>\n",
       "      <th>1</th>\n",
       "      <td>PC</td>\n",
       "      <td>13.765625</td>\n",
       "      <td>104</td>\n",
       "      <td>0.132362</td>\n",
       "    </tr>\n",
       "    <tr>\n",
       "      <th>5</th>\n",
       "      <td>PSV</td>\n",
       "      <td>10.500000</td>\n",
       "      <td>195</td>\n",
       "      <td>0.053846</td>\n",
       "    </tr>\n",
       "    <tr>\n",
       "      <th>4</th>\n",
       "      <td>PSP</td>\n",
       "      <td>0.119995</td>\n",
       "      <td>3</td>\n",
       "      <td>0.039998</td>\n",
       "    </tr>\n",
       "  </tbody>\n",
       "</table>\n",
       "</div>"
      ],
      "text/plain": [
       "  platform         sum  count  sum_by_one_game\n",
       "9     XOne   73.000000    164         0.445122\n",
       "7     WiiU   16.515625     41         0.402820\n",
       "3      PS4  108.437500    288         0.376519\n",
       "8     X360   13.484375     48         0.280924\n",
       "6      Wii    1.320312      5         0.264062\n",
       "0      3DS   25.796875    127         0.203125\n",
       "2      PS3   20.421875    111         0.183981\n",
       "1       PC   13.765625    104         0.132362\n",
       "5      PSV   10.500000    195         0.053846\n",
       "4      PSP    0.119995      3         0.039998"
      ]
     },
     "execution_count": 36,
     "metadata": {},
     "output_type": "execute_result"
    }
   ],
   "source": [
    "platform_sum_count = data_2015[~data_2015[\"sum_regions\"].isna()].pivot_table(index=\"platform\", \n",
    "                                                                                    values=\"sum_regions\", \n",
    "                                                                                    aggfunc=[\"sum\", \"count\"]).reset_index()\n",
    "platform_sum_count.columns = [\"platform\", \"sum\", \"count\"]\n",
    "platform_sum_count[\"sum_by_one_game\"] = platform_sum_count[\"sum\"]/platform_sum_count[\"count\"]\n",
    "platform_sum_count.sort_values(\"sum_by_one_game\", ascending=False)"
   ]
  },
  {
   "cell_type": "markdown",
   "metadata": {},
   "source": [
    "Видно, что дело в количестве выпущенных игр. Если опираться на общие продажи, то наиболее прибыльные - PS4, XOne, 3DS. Если же опираться на продажи одной игры, то прибыльные - XOne, Wii, WiiU."
   ]
  },
  {
   "cell_type": "markdown",
   "metadata": {},
   "source": [
    "### 7. Посмотрите, как влияют на продажи внутри одной популярной платформы отзывы пользователей и критиков. Постройте диаграмму рассеяния и посчитайте корреляцию между отзывами и продажами. Сформулируйте выводы и соотнесите их с продажами игр на других платформах.\n",
    "Возьмём три потенциально прибыльные платформы - PS4, XOne, 3DS. Начнём с PS4 "
   ]
  },
  {
   "cell_type": "code",
   "execution_count": 37,
   "metadata": {},
   "outputs": [
    {
     "name": "stdout",
     "output_type": "stream",
     "text": [
      "Коэффициент корреляции для PS4 = 0.5745418050337442\n"
     ]
    },
    {
     "data": {
      "text/plain": [
       "<seaborn.axisgrid.FacetGrid at 0x1ff7ffdd880>"
      ]
     },
     "execution_count": 37,
     "metadata": {},
     "output_type": "execute_result"
    },
    {
     "data": {
      "image/png": "[encoded data removed]",
      "text/plain": [
       "<Figure size 360x360 with 1 Axes>"
      ]
     },
     "metadata": {},
     "output_type": "display_data"
    }
   ],
   "source": [
    "platf_PS4 = data_2015[(data_2015[\"platform\"]==\"PS4\")]\n",
    "print(\"Коэффициент корреляции для PS4 =\", platf_PS4.critic_score.corr(platf_PS4.user_score))\n",
    "sns.relplot(x=\"critic_score\", y=\"user_score\", data=platf_PS4)"
   ]
  },
  {
   "cell_type": "markdown",
   "metadata": {},
   "source": [
    "Коэффициент корреляции для PS4 равен 0,55, т.е. \"средняя корреляция\". Видно, что основная масса оценок для пользователей - выше 6, для критиков - выше 60."
   ]
  },
  {
   "cell_type": "code",
   "execution_count": 38,
   "metadata": {},
   "outputs": [
    {
     "name": "stdout",
     "output_type": "stream",
     "text": [
      "Коэффициент корреляции для XOne = 0.4886541799578501\n",
      "Коэффициент корреляции для 3DS = 0.622122160914515\n"
     ]
    },
    {
     "data": {
      "text/plain": [
       "<seaborn.axisgrid.FacetGrid at 0x1ff3201c460>"
      ]
     },
     "execution_count": 38,
     "metadata": {},
     "output_type": "execute_result"
    },
    {
     "data": {
      "image/png": "[encoded data removed]",
      "text/plain": [
       "<Figure size 720x360 with 2 Axes>"
      ]
     },
     "metadata": {},
     "output_type": "display_data"
    }
   ],
   "source": [
    "platf_XOne_3DS = data_2015[(data_2015[\"platform\"]==\"XOne\") | \n",
    "                             (data_2015[\"platform\"]==\"3DS\")]\n",
    "platf_XOne = platf_XOne_3DS[(platf_XOne_3DS[\"platform\"]==\"XOne\")]\n",
    "platf_3DS = platf_XOne_3DS[(platf_XOne_3DS[\"platform\"]==\"3DS\")]\n",
    "\n",
    "print(\"Коэффициент корреляции для XOne =\", platf_XOne.critic_score.corr(platf_XOne.user_score))\n",
    "print(\"Коэффициент корреляции для 3DS =\", platf_3DS.critic_score.corr(platf_3DS.user_score))\n",
    "sns.relplot(x=\"critic_score\", y=\"user_score\", col=\"platform\", data=platf_XOne_3DS)"
   ]
  },
  {
   "cell_type": "markdown",
   "metadata": {},
   "source": [
    "Коэффициент корреляции для XOne равен 0.45, т.е. \"слабая корреляция\". Основная масса оценок для пользователей - выше 5, для критиков - выше 50, т.е. ниже, чем для PS4. \n",
    "Коэффициент корреляции для 3DS равен 0.6, т.е. \"средняя корреляция\". Стоит заметить, что данных гораздо меньше, чем у двух предыдущих платформ, а оценки больше 6 и 60."
   ]
  },
  {
   "cell_type": "markdown",
   "metadata": {},
   "source": [
    "### 8. Посмотрите на общее распределение игр по жанрам. Что можно сказать о самых прибыльных жанрах? Выделяются ли жанры с высокими и низкими продажами?"
   ]
  },
  {
   "cell_type": "code",
   "execution_count": 39,
   "metadata": {},
   "outputs": [
    {
     "data": {
      "text/plain": [
       "(array([ 0,  1,  2,  3,  4,  5,  6,  7,  8,  9, 10, 11]),\n",
       " [Text(0, 0, 'Action'),\n",
       "  Text(1, 0, 'Shooter'),\n",
       "  Text(2, 0, 'Role-Playing'),\n",
       "  Text(3, 0, 'Sports'),\n",
       "  Text(4, 0, 'Platform'),\n",
       "  Text(5, 0, 'Fighting'),\n",
       "  Text(6, 0, 'Misc'),\n",
       "  Text(7, 0, 'Racing'),\n",
       "  Text(8, 0, 'Adventure'),\n",
       "  Text(9, 0, 'Simulation'),\n",
       "  Text(10, 0, 'Strategy'),\n",
       "  Text(11, 0, 'Puzzle')])"
      ]
     },
     "execution_count": 39,
     "metadata": {},
     "output_type": "execute_result"
    },
    {
     "data": {
      "image/png": "[encoded data removed]",
      "text/plain": [
       "<Figure size 432x288 with 1 Axes>"
      ]
     },
     "metadata": {},
     "output_type": "display_data"
    }
   ],
   "source": [
    "sns.barplot(x=\"genre\", y=\"sum_regions\", data=data_2015, ci=None)\n",
    "plt.xticks(rotation=60)"
   ]
  },
  {
   "cell_type": "code",
   "execution_count": 40,
   "metadata": {},
   "outputs": [
    {
     "data": {
      "text/html": [
       "<div>\n",
       "<style scoped>\n",
       "    .dataframe tbody tr th:only-of-type {\n",
       "        vertical-align: middle;\n",
       "    }\n",
       "\n",
       "    .dataframe tbody tr th {\n",
       "        vertical-align: top;\n",
       "    }\n",
       "\n",
       "    .dataframe thead th {\n",
       "        text-align: right;\n",
       "    }\n",
       "</style>\n",
       "<table border=\"1\" class=\"dataframe\">\n",
       "  <thead>\n",
       "    <tr style=\"text-align: right;\">\n",
       "      <th></th>\n",
       "      <th>genre</th>\n",
       "      <th>sum</th>\n",
       "      <th>count</th>\n",
       "      <th>sum_by_one_game</th>\n",
       "    </tr>\n",
       "  </thead>\n",
       "  <tbody>\n",
       "    <tr>\n",
       "      <th>8</th>\n",
       "      <td>Shooter</td>\n",
       "      <td>57.343750</td>\n",
       "      <td>74</td>\n",
       "      <td>0.774916</td>\n",
       "    </tr>\n",
       "    <tr>\n",
       "      <th>10</th>\n",
       "      <td>Sports</td>\n",
       "      <td>38.375000</td>\n",
       "      <td>102</td>\n",
       "      <td>0.376225</td>\n",
       "    </tr>\n",
       "    <tr>\n",
       "      <th>2</th>\n",
       "      <td>Fighting</td>\n",
       "      <td>12.367188</td>\n",
       "      <td>37</td>\n",
       "      <td>0.334248</td>\n",
       "    </tr>\n",
       "    <tr>\n",
       "      <th>4</th>\n",
       "      <td>Platform</td>\n",
       "      <td>9.281250</td>\n",
       "      <td>28</td>\n",
       "      <td>0.331473</td>\n",
       "    </tr>\n",
       "    <tr>\n",
       "      <th>7</th>\n",
       "      <td>Role-Playing</td>\n",
       "      <td>37.531250</td>\n",
       "      <td>129</td>\n",
       "      <td>0.290940</td>\n",
       "    </tr>\n",
       "    <tr>\n",
       "      <th>6</th>\n",
       "      <td>Racing</td>\n",
       "      <td>10.859375</td>\n",
       "      <td>42</td>\n",
       "      <td>0.258557</td>\n",
       "    </tr>\n",
       "    <tr>\n",
       "      <th>3</th>\n",
       "      <td>Misc</td>\n",
       "      <td>14.171875</td>\n",
       "      <td>71</td>\n",
       "      <td>0.199604</td>\n",
       "    </tr>\n",
       "    <tr>\n",
       "      <th>0</th>\n",
       "      <td>Action</td>\n",
       "      <td>83.250000</td>\n",
       "      <td>425</td>\n",
       "      <td>0.195882</td>\n",
       "    </tr>\n",
       "    <tr>\n",
       "      <th>9</th>\n",
       "      <td>Simulation</td>\n",
       "      <td>4.500000</td>\n",
       "      <td>32</td>\n",
       "      <td>0.140625</td>\n",
       "    </tr>\n",
       "    <tr>\n",
       "      <th>1</th>\n",
       "      <td>Adventure</td>\n",
       "      <td>11.976562</td>\n",
       "      <td>110</td>\n",
       "      <td>0.108878</td>\n",
       "    </tr>\n",
       "    <tr>\n",
       "      <th>5</th>\n",
       "      <td>Puzzle</td>\n",
       "      <td>0.720215</td>\n",
       "      <td>7</td>\n",
       "      <td>0.102888</td>\n",
       "    </tr>\n",
       "    <tr>\n",
       "      <th>11</th>\n",
       "      <td>Strategy</td>\n",
       "      <td>2.980469</td>\n",
       "      <td>29</td>\n",
       "      <td>0.102775</td>\n",
       "    </tr>\n",
       "  </tbody>\n",
       "</table>\n",
       "</div>"
      ],
      "text/plain": [
       "           genre        sum  count  sum_by_one_game\n",
       "8        Shooter  57.343750     74         0.774916\n",
       "10        Sports  38.375000    102         0.376225\n",
       "2       Fighting  12.367188     37         0.334248\n",
       "4       Platform   9.281250     28         0.331473\n",
       "7   Role-Playing  37.531250    129         0.290940\n",
       "6         Racing  10.859375     42         0.258557\n",
       "3           Misc  14.171875     71         0.199604\n",
       "0         Action  83.250000    425         0.195882\n",
       "9     Simulation   4.500000     32         0.140625\n",
       "1      Adventure  11.976562    110         0.108878\n",
       "5         Puzzle   0.720215      7         0.102888\n",
       "11      Strategy   2.980469     29         0.102775"
      ]
     },
     "execution_count": 40,
     "metadata": {},
     "output_type": "execute_result"
    }
   ],
   "source": [
    "genre_sum_count = data_2015[~data_2015[\"sum_regions\"].isna()].pivot_table(index=\"genre\", \n",
    "                                                                                    values=\"sum_regions\", \n",
    "                                                                                    aggfunc=[\"sum\", \"count\"]).reset_index()\n",
    "genre_sum_count.columns = [\"genre\", \"sum\", \"count\"]\n",
    "genre_sum_count[\"sum_by_one_game\"] = genre_sum_count[\"sum\"]/genre_sum_count[\"count\"]\n",
    "genre_sum_count.sort_values(\"sum_by_one_game\", ascending=False)"
   ]
  },
  {
   "cell_type": "markdown",
   "metadata": {},
   "source": [
    "Выделяется жанр shooter, который принес примерно в два раза больше прибыли для одной игры, чем следующий после него жанр - sports. Также низкими продажами выделяются жанры adventure, puzzle и strategy. \n",
    "\n",
    "## Шаг 5. Составьте портрет пользователя каждого региона. Определите для пользователя каждого региона (NA, EU, JP):\n",
    "### 1. Самые популярные платформы (топ-5). Опишите различия в долях продаж."
   ]
  },
  {
   "cell_type": "code",
   "execution_count": 41,
   "metadata": {},
   "outputs": [
    {
     "data": {
      "text/html": [
       "<div>\n",
       "<style scoped>\n",
       "    .dataframe tbody tr th:only-of-type {\n",
       "        vertical-align: middle;\n",
       "    }\n",
       "\n",
       "    .dataframe tbody tr th {\n",
       "        vertical-align: top;\n",
       "    }\n",
       "\n",
       "    .dataframe thead th {\n",
       "        text-align: right;\n",
       "    }\n",
       "</style>\n",
       "<table border=\"1\" class=\"dataframe\">\n",
       "  <thead>\n",
       "    <tr style=\"text-align: right;\">\n",
       "      <th></th>\n",
       "      <th>platform</th>\n",
       "      <th>na_sales</th>\n",
       "      <th>eu_sales</th>\n",
       "      <th>jp_sales</th>\n",
       "    </tr>\n",
       "  </thead>\n",
       "  <tbody>\n",
       "    <tr>\n",
       "      <th>3</th>\n",
       "      <td>PS4</td>\n",
       "      <td>38.062500</td>\n",
       "      <td>44.218750</td>\n",
       "      <td>10.031250</td>\n",
       "    </tr>\n",
       "    <tr>\n",
       "      <th>9</th>\n",
       "      <td>XOne</td>\n",
       "      <td>44.375000</td>\n",
       "      <td>21.828125</td>\n",
       "      <td>0.170044</td>\n",
       "    </tr>\n",
       "    <tr>\n",
       "      <th>0</th>\n",
       "      <td>3DS</td>\n",
       "      <td>6.550781</td>\n",
       "      <td>4.710938</td>\n",
       "      <td>13.484375</td>\n",
       "    </tr>\n",
       "    <tr>\n",
       "      <th>2</th>\n",
       "      <td>PS3</td>\n",
       "      <td>5.656250</td>\n",
       "      <td>7.296875</td>\n",
       "      <td>4.968750</td>\n",
       "    </tr>\n",
       "    <tr>\n",
       "      <th>7</th>\n",
       "      <td>WiiU</td>\n",
       "      <td>7.320312</td>\n",
       "      <td>5.312500</td>\n",
       "      <td>2.660156</td>\n",
       "    </tr>\n",
       "    <tr>\n",
       "      <th>1</th>\n",
       "      <td>PC</td>\n",
       "      <td>3.718750</td>\n",
       "      <td>9.101562</td>\n",
       "      <td>0.000000</td>\n",
       "    </tr>\n",
       "    <tr>\n",
       "      <th>8</th>\n",
       "      <td>X360</td>\n",
       "      <td>8.046875</td>\n",
       "      <td>4.210938</td>\n",
       "      <td>0.000000</td>\n",
       "    </tr>\n",
       "    <tr>\n",
       "      <th>5</th>\n",
       "      <td>PSV</td>\n",
       "      <td>0.540039</td>\n",
       "      <td>1.080078</td>\n",
       "      <td>8.414062</td>\n",
       "    </tr>\n",
       "    <tr>\n",
       "      <th>6</th>\n",
       "      <td>Wii</td>\n",
       "      <td>0.489990</td>\n",
       "      <td>0.729980</td>\n",
       "      <td>0.000000</td>\n",
       "    </tr>\n",
       "    <tr>\n",
       "      <th>4</th>\n",
       "      <td>PSP</td>\n",
       "      <td>0.000000</td>\n",
       "      <td>0.000000</td>\n",
       "      <td>0.119995</td>\n",
       "    </tr>\n",
       "  </tbody>\n",
       "</table>\n",
       "</div>"
      ],
      "text/plain": [
       "  platform   na_sales   eu_sales   jp_sales\n",
       "3      PS4  38.062500  44.218750  10.031250\n",
       "9     XOne  44.375000  21.828125   0.170044\n",
       "0      3DS   6.550781   4.710938  13.484375\n",
       "2      PS3   5.656250   7.296875   4.968750\n",
       "7     WiiU   7.320312   5.312500   2.660156\n",
       "1       PC   3.718750   9.101562   0.000000\n",
       "8     X360   8.046875   4.210938   0.000000\n",
       "5      PSV   0.540039   1.080078   8.414062\n",
       "6      Wii   0.489990   0.729980   0.000000\n",
       "4      PSP   0.000000   0.000000   0.119995"
      ]
     },
     "execution_count": 41,
     "metadata": {},
     "output_type": "execute_result"
    }
   ],
   "source": [
    "#сгруппируем данные по платформам и годам\n",
    "data_for_regs = data_2015.pivot_table(index=[\"platform\", \"year_of_release\"], \n",
    "                                           values=[\"na_sales\", \"eu_sales\", \"jp_sales\", \"sum_regions\"], \n",
    "                                           aggfunc=\"sum\").reset_index()\n",
    "\n",
    "data_for_regs.groupby(\"platform\").sum().reset_index()\\\n",
    "              .sort_values(\"sum_regions\", ascending=False)\\\n",
    "              [[\"platform\", \"na_sales\", \"eu_sales\", \"jp_sales\"]]"
   ]
  },
  {
   "cell_type": "markdown",
   "metadata": {},
   "source": [
    "В таблице видно, что NA и EU регионы суммарно по всем платформам примерно равны (где-то больше продаж у одного, где-то у другого), а вот JP регион сильно отстает по продажам. Лидируют платформы PS4 и XOne."
   ]
  },
  {
   "cell_type": "code",
   "execution_count": 42,
   "metadata": {},
   "outputs": [
    {
     "data": {
      "text/html": [
       "<div>\n",
       "<style scoped>\n",
       "    .dataframe tbody tr th:only-of-type {\n",
       "        vertical-align: middle;\n",
       "    }\n",
       "\n",
       "    .dataframe tbody tr th {\n",
       "        vertical-align: top;\n",
       "    }\n",
       "\n",
       "    .dataframe thead th {\n",
       "        text-align: right;\n",
       "    }\n",
       "</style>\n",
       "<table border=\"1\" class=\"dataframe\">\n",
       "  <thead>\n",
       "    <tr style=\"text-align: right;\">\n",
       "      <th></th>\n",
       "      <th>platform</th>\n",
       "      <th>na_sales</th>\n",
       "    </tr>\n",
       "  </thead>\n",
       "  <tbody>\n",
       "    <tr>\n",
       "      <th>9</th>\n",
       "      <td>XOne</td>\n",
       "      <td>44.375000</td>\n",
       "    </tr>\n",
       "    <tr>\n",
       "      <th>3</th>\n",
       "      <td>PS4</td>\n",
       "      <td>38.062500</td>\n",
       "    </tr>\n",
       "    <tr>\n",
       "      <th>8</th>\n",
       "      <td>X360</td>\n",
       "      <td>8.046875</td>\n",
       "    </tr>\n",
       "    <tr>\n",
       "      <th>7</th>\n",
       "      <td>WiiU</td>\n",
       "      <td>7.320312</td>\n",
       "    </tr>\n",
       "    <tr>\n",
       "      <th>0</th>\n",
       "      <td>3DS</td>\n",
       "      <td>6.550781</td>\n",
       "    </tr>\n",
       "  </tbody>\n",
       "</table>\n",
       "</div>"
      ],
      "text/plain": [
       "  platform   na_sales\n",
       "9     XOne  44.375000\n",
       "3      PS4  38.062500\n",
       "8     X360   8.046875\n",
       "7     WiiU   7.320312\n",
       "0      3DS   6.550781"
      ]
     },
     "execution_count": 42,
     "metadata": {},
     "output_type": "execute_result"
    }
   ],
   "source": [
    "#найдём самые популярные платформы для NA региона\n",
    "data_for_regs.groupby(\"platform\")\\\n",
    "             .sum()\\\n",
    "             .reset_index()\\\n",
    "             .sort_values(\"na_sales\", ascending=False)[[\"platform\", \"na_sales\"]]\\\n",
    "             .head(5)"
   ]
  },
  {
   "cell_type": "markdown",
   "metadata": {},
   "source": [
    "Платформы PS4 и XOne сильно лидируют в данном регионе, что иллюстрирует график ниже.  "
   ]
  },
  {
   "cell_type": "code",
   "execution_count": 43,
   "metadata": {},
   "outputs": [
    {
     "data": {
      "text/plain": [
       "<AxesSubplot:xlabel='year_of_release', ylabel='na_sales'>"
      ]
     },
     "execution_count": 43,
     "metadata": {},
     "output_type": "execute_result"
    },
    {
     "data": {
      "image/png": "[encoded data removed]",
      "text/plain": [
       "<Figure size 720x288 with 1 Axes>"
      ]
     },
     "metadata": {},
     "output_type": "display_data"
    }
   ],
   "source": [
    "fig, ax = plt.subplots(figsize=(10, 4))\n",
    "sns.lineplot(x=\"year_of_release\", y=\"na_sales\", hue=\"platform\", data=data_for_regs, estimator=None, ax=ax)"
   ]
  },
  {
   "cell_type": "code",
   "execution_count": 44,
   "metadata": {},
   "outputs": [
    {
     "data": {
      "text/html": [
       "<div>\n",
       "<style scoped>\n",
       "    .dataframe tbody tr th:only-of-type {\n",
       "        vertical-align: middle;\n",
       "    }\n",
       "\n",
       "    .dataframe tbody tr th {\n",
       "        vertical-align: top;\n",
       "    }\n",
       "\n",
       "    .dataframe thead th {\n",
       "        text-align: right;\n",
       "    }\n",
       "</style>\n",
       "<table border=\"1\" class=\"dataframe\">\n",
       "  <thead>\n",
       "    <tr style=\"text-align: right;\">\n",
       "      <th></th>\n",
       "      <th>platform</th>\n",
       "      <th>eu_sales</th>\n",
       "    </tr>\n",
       "  </thead>\n",
       "  <tbody>\n",
       "    <tr>\n",
       "      <th>3</th>\n",
       "      <td>PS4</td>\n",
       "      <td>44.218750</td>\n",
       "    </tr>\n",
       "    <tr>\n",
       "      <th>9</th>\n",
       "      <td>XOne</td>\n",
       "      <td>21.828125</td>\n",
       "    </tr>\n",
       "    <tr>\n",
       "      <th>1</th>\n",
       "      <td>PC</td>\n",
       "      <td>9.101562</td>\n",
       "    </tr>\n",
       "    <tr>\n",
       "      <th>2</th>\n",
       "      <td>PS3</td>\n",
       "      <td>7.296875</td>\n",
       "    </tr>\n",
       "    <tr>\n",
       "      <th>7</th>\n",
       "      <td>WiiU</td>\n",
       "      <td>5.312500</td>\n",
       "    </tr>\n",
       "  </tbody>\n",
       "</table>\n",
       "</div>"
      ],
      "text/plain": [
       "  platform   eu_sales\n",
       "3      PS4  44.218750\n",
       "9     XOne  21.828125\n",
       "1       PC   9.101562\n",
       "2      PS3   7.296875\n",
       "7     WiiU   5.312500"
      ]
     },
     "execution_count": 44,
     "metadata": {},
     "output_type": "execute_result"
    }
   ],
   "source": [
    "#найдём самые популярные платформы для EU региона\n",
    "data_for_regs.groupby(\"platform\")\\\n",
    "             .sum()\\\n",
    "             .reset_index()\\\n",
    "             .sort_values(\"eu_sales\", ascending=False)[[\"platform\", \"eu_sales\"]]\\\n",
    "             .head(5)"
   ]
  },
  {
   "cell_type": "markdown",
   "metadata": {},
   "source": [
    "В данном регионе сильно лидирует платформа PS4, что иллюстрирует график ниже."
   ]
  },
  {
   "cell_type": "code",
   "execution_count": 45,
   "metadata": {},
   "outputs": [
    {
     "data": {
      "text/plain": [
       "<AxesSubplot:xlabel='year_of_release', ylabel='eu_sales'>"
      ]
     },
     "execution_count": 45,
     "metadata": {},
     "output_type": "execute_result"
    },
    {
     "data": {
      "image/png": "[encoded data removed]",
      "text/plain": [
       "<Figure size 720x288 with 1 Axes>"
      ]
     },
     "metadata": {},
     "output_type": "display_data"
    }
   ],
   "source": [
    "fig, ax = plt.subplots(figsize=(10, 4))\n",
    "sns.lineplot(x=\"year_of_release\", y=\"eu_sales\", hue=\"platform\", data=data_for_regs, estimator=None, ax=ax)"
   ]
  },
  {
   "cell_type": "code",
   "execution_count": 46,
   "metadata": {},
   "outputs": [
    {
     "data": {
      "text/html": [
       "<div>\n",
       "<style scoped>\n",
       "    .dataframe tbody tr th:only-of-type {\n",
       "        vertical-align: middle;\n",
       "    }\n",
       "\n",
       "    .dataframe tbody tr th {\n",
       "        vertical-align: top;\n",
       "    }\n",
       "\n",
       "    .dataframe thead th {\n",
       "        text-align: right;\n",
       "    }\n",
       "</style>\n",
       "<table border=\"1\" class=\"dataframe\">\n",
       "  <thead>\n",
       "    <tr style=\"text-align: right;\">\n",
       "      <th></th>\n",
       "      <th>platform</th>\n",
       "      <th>jp_sales</th>\n",
       "    </tr>\n",
       "  </thead>\n",
       "  <tbody>\n",
       "    <tr>\n",
       "      <th>0</th>\n",
       "      <td>3DS</td>\n",
       "      <td>13.484375</td>\n",
       "    </tr>\n",
       "    <tr>\n",
       "      <th>3</th>\n",
       "      <td>PS4</td>\n",
       "      <td>10.031250</td>\n",
       "    </tr>\n",
       "    <tr>\n",
       "      <th>5</th>\n",
       "      <td>PSV</td>\n",
       "      <td>8.414062</td>\n",
       "    </tr>\n",
       "    <tr>\n",
       "      <th>2</th>\n",
       "      <td>PS3</td>\n",
       "      <td>4.968750</td>\n",
       "    </tr>\n",
       "    <tr>\n",
       "      <th>7</th>\n",
       "      <td>WiiU</td>\n",
       "      <td>2.660156</td>\n",
       "    </tr>\n",
       "  </tbody>\n",
       "</table>\n",
       "</div>"
      ],
      "text/plain": [
       "  platform   jp_sales\n",
       "0      3DS  13.484375\n",
       "3      PS4  10.031250\n",
       "5      PSV   8.414062\n",
       "2      PS3   4.968750\n",
       "7     WiiU   2.660156"
      ]
     },
     "execution_count": 46,
     "metadata": {},
     "output_type": "execute_result"
    }
   ],
   "source": [
    "#найдём самые популярные платформы для JP региона\n",
    "data_for_regs.groupby(\"platform\")\\\n",
    "             .sum()\\\n",
    "             .reset_index()\\\n",
    "             .sort_values(\"jp_sales\", ascending=False)[[\"platform\", \"jp_sales\"]]\\\n",
    "             .head(5)"
   ]
  },
  {
   "cell_type": "markdown",
   "metadata": {},
   "source": [
    "В данном регионе продажи в 3 раза выше у платформы 3DS, что иллюстрирует график ниже. Однако, продажи для данной платформы с каждым годом ниже, в перспективе PS4 кажется выгоднее."
   ]
  },
  {
   "cell_type": "code",
   "execution_count": 47,
   "metadata": {},
   "outputs": [
    {
     "data": {
      "text/plain": [
       "<AxesSubplot:xlabel='year_of_release', ylabel='jp_sales'>"
      ]
     },
     "execution_count": 47,
     "metadata": {},
     "output_type": "execute_result"
    },
    {
     "data": {
      "image/png": "[encoded data removed]",
      "text/plain": [
       "<Figure size 720x288 with 1 Axes>"
      ]
     },
     "metadata": {},
     "output_type": "display_data"
    }
   ],
   "source": [
    "fig, ax = plt.subplots(figsize=(10, 4))\n",
    "sns.lineplot(x=\"year_of_release\", y=\"jp_sales\", hue=\"platform\", data=data_for_regs, estimator=None, ax=ax)"
   ]
  },
  {
   "cell_type": "markdown",
   "metadata": {},
   "source": [
    "### 2. Самые популярные жанры (топ-5). Поясните разницу."
   ]
  },
  {
   "cell_type": "code",
   "execution_count": 48,
   "metadata": {},
   "outputs": [
    {
     "data": {
      "text/html": [
       "<div>\n",
       "<style scoped>\n",
       "    .dataframe tbody tr th:only-of-type {\n",
       "        vertical-align: middle;\n",
       "    }\n",
       "\n",
       "    .dataframe tbody tr th {\n",
       "        vertical-align: top;\n",
       "    }\n",
       "\n",
       "    .dataframe thead th {\n",
       "        text-align: right;\n",
       "    }\n",
       "</style>\n",
       "<table border=\"1\" class=\"dataframe\">\n",
       "  <thead>\n",
       "    <tr style=\"text-align: right;\">\n",
       "      <th></th>\n",
       "      <th>genre</th>\n",
       "      <th>na_sales</th>\n",
       "      <th>eu_sales</th>\n",
       "      <th>jp_sales</th>\n",
       "    </tr>\n",
       "  </thead>\n",
       "  <tbody>\n",
       "    <tr>\n",
       "      <th>0</th>\n",
       "      <td>Action</td>\n",
       "      <td>29.000000</td>\n",
       "      <td>29.218750</td>\n",
       "      <td>16.390625</td>\n",
       "    </tr>\n",
       "    <tr>\n",
       "      <th>8</th>\n",
       "      <td>Shooter</td>\n",
       "      <td>28.468750</td>\n",
       "      <td>21.000000</td>\n",
       "      <td>1.190430</td>\n",
       "    </tr>\n",
       "    <tr>\n",
       "      <th>10</th>\n",
       "      <td>Sports</td>\n",
       "      <td>20.718750</td>\n",
       "      <td>11.125000</td>\n",
       "      <td>1.480469</td>\n",
       "    </tr>\n",
       "    <tr>\n",
       "      <th>7</th>\n",
       "      <td>Role-Playing</td>\n",
       "      <td>13.296875</td>\n",
       "      <td>10.359375</td>\n",
       "      <td>10.687500</td>\n",
       "    </tr>\n",
       "    <tr>\n",
       "      <th>3</th>\n",
       "      <td>Misc</td>\n",
       "      <td>5.582031</td>\n",
       "      <td>4.257812</td>\n",
       "      <td>3.191406</td>\n",
       "    </tr>\n",
       "    <tr>\n",
       "      <th>2</th>\n",
       "      <td>Fighting</td>\n",
       "      <td>5.539062</td>\n",
       "      <td>3.718750</td>\n",
       "      <td>1.540039</td>\n",
       "    </tr>\n",
       "    <tr>\n",
       "      <th>1</th>\n",
       "      <td>Adventure</td>\n",
       "      <td>3.839844</td>\n",
       "      <td>4.671875</td>\n",
       "      <td>2.218750</td>\n",
       "    </tr>\n",
       "    <tr>\n",
       "      <th>6</th>\n",
       "      <td>Racing</td>\n",
       "      <td>2.820312</td>\n",
       "      <td>6.519531</td>\n",
       "      <td>0.290039</td>\n",
       "    </tr>\n",
       "    <tr>\n",
       "      <th>4</th>\n",
       "      <td>Platform</td>\n",
       "      <td>3.781250</td>\n",
       "      <td>3.199219</td>\n",
       "      <td>1.419922</td>\n",
       "    </tr>\n",
       "    <tr>\n",
       "      <th>9</th>\n",
       "      <td>Simulation</td>\n",
       "      <td>0.850098</td>\n",
       "      <td>2.720703</td>\n",
       "      <td>0.529785</td>\n",
       "    </tr>\n",
       "    <tr>\n",
       "      <th>11</th>\n",
       "      <td>Strategy</td>\n",
       "      <td>0.820312</td>\n",
       "      <td>1.570312</td>\n",
       "      <td>0.390137</td>\n",
       "    </tr>\n",
       "    <tr>\n",
       "      <th>5</th>\n",
       "      <td>Puzzle</td>\n",
       "      <td>0.059998</td>\n",
       "      <td>0.130005</td>\n",
       "      <td>0.520020</td>\n",
       "    </tr>\n",
       "  </tbody>\n",
       "</table>\n",
       "</div>"
      ],
      "text/plain": [
       "           genre   na_sales   eu_sales   jp_sales\n",
       "0         Action  29.000000  29.218750  16.390625\n",
       "8        Shooter  28.468750  21.000000   1.190430\n",
       "10        Sports  20.718750  11.125000   1.480469\n",
       "7   Role-Playing  13.296875  10.359375  10.687500\n",
       "3           Misc   5.582031   4.257812   3.191406\n",
       "2       Fighting   5.539062   3.718750   1.540039\n",
       "1      Adventure   3.839844   4.671875   2.218750\n",
       "6         Racing   2.820312   6.519531   0.290039\n",
       "4       Platform   3.781250   3.199219   1.419922\n",
       "9     Simulation   0.850098   2.720703   0.529785\n",
       "11      Strategy   0.820312   1.570312   0.390137\n",
       "5         Puzzle   0.059998   0.130005   0.520020"
      ]
     },
     "execution_count": 48,
     "metadata": {},
     "output_type": "execute_result"
    }
   ],
   "source": [
    "#сгруппируем данные по жанрам и годам\n",
    "genre_data_for_regs = data_2015.pivot_table(index=[\"genre\", \"year_of_release\"], \n",
    "                                                 values=[\"na_sales\", \"eu_sales\", \"jp_sales\", \"sum_regions\"], \n",
    "                                                 aggfunc=\"sum\").reset_index()\n",
    "\n",
    "genre_data_for_regs.groupby(\"genre\")\\\n",
    "                   .sum().reset_index()\\\n",
    "                   .sort_values(\"sum_regions\", ascending=False)\\\n",
    "                   [[\"genre\", \"na_sales\", \"eu_sales\", \"jp_sales\"]]"
   ]
  },
  {
   "cell_type": "markdown",
   "metadata": {},
   "source": [
    "В таблице видно, что для всех регионов сильно лидируют жанры Action и Shoter, как было отмечено выше, для NA и EU продажи по жанрам примерно одинаковы, сильно выделяется регион JP."
   ]
  },
  {
   "cell_type": "code",
   "execution_count": 49,
   "metadata": {},
   "outputs": [
    {
     "data": {
      "text/html": [
       "<div>\n",
       "<style scoped>\n",
       "    .dataframe tbody tr th:only-of-type {\n",
       "        vertical-align: middle;\n",
       "    }\n",
       "\n",
       "    .dataframe tbody tr th {\n",
       "        vertical-align: top;\n",
       "    }\n",
       "\n",
       "    .dataframe thead th {\n",
       "        text-align: right;\n",
       "    }\n",
       "</style>\n",
       "<table border=\"1\" class=\"dataframe\">\n",
       "  <thead>\n",
       "    <tr style=\"text-align: right;\">\n",
       "      <th></th>\n",
       "      <th>genre</th>\n",
       "      <th>na_sales</th>\n",
       "    </tr>\n",
       "  </thead>\n",
       "  <tbody>\n",
       "    <tr>\n",
       "      <th>0</th>\n",
       "      <td>Action</td>\n",
       "      <td>29.000000</td>\n",
       "    </tr>\n",
       "    <tr>\n",
       "      <th>8</th>\n",
       "      <td>Shooter</td>\n",
       "      <td>28.468750</td>\n",
       "    </tr>\n",
       "    <tr>\n",
       "      <th>10</th>\n",
       "      <td>Sports</td>\n",
       "      <td>20.718750</td>\n",
       "    </tr>\n",
       "    <tr>\n",
       "      <th>7</th>\n",
       "      <td>Role-Playing</td>\n",
       "      <td>13.296875</td>\n",
       "    </tr>\n",
       "    <tr>\n",
       "      <th>3</th>\n",
       "      <td>Misc</td>\n",
       "      <td>5.582031</td>\n",
       "    </tr>\n",
       "  </tbody>\n",
       "</table>\n",
       "</div>"
      ],
      "text/plain": [
       "           genre   na_sales\n",
       "0         Action  29.000000\n",
       "8        Shooter  28.468750\n",
       "10        Sports  20.718750\n",
       "7   Role-Playing  13.296875\n",
       "3           Misc   5.582031"
      ]
     },
     "execution_count": 49,
     "metadata": {},
     "output_type": "execute_result"
    }
   ],
   "source": [
    "#найдём самые популярные жанры для NA региона\n",
    "genre_data_for_regs.groupby(\"genre\")\\\n",
    "                   .sum()\\\n",
    "                   .reset_index()\\\n",
    "                   .sort_values(\"na_sales\", ascending=False)[[\"genre\", \"na_sales\"]]\\\n",
    "                   .head(5)"
   ]
  },
  {
   "cell_type": "markdown",
   "metadata": {},
   "source": [
    "Для региона NA более прибыльные жанры - Shooter и Action, причем Shooter немного прибыльнее. "
   ]
  },
  {
   "cell_type": "code",
   "execution_count": 50,
   "metadata": {},
   "outputs": [
    {
     "data": {
      "text/html": [
       "<div>\n",
       "<style scoped>\n",
       "    .dataframe tbody tr th:only-of-type {\n",
       "        vertical-align: middle;\n",
       "    }\n",
       "\n",
       "    .dataframe tbody tr th {\n",
       "        vertical-align: top;\n",
       "    }\n",
       "\n",
       "    .dataframe thead th {\n",
       "        text-align: right;\n",
       "    }\n",
       "</style>\n",
       "<table border=\"1\" class=\"dataframe\">\n",
       "  <thead>\n",
       "    <tr style=\"text-align: right;\">\n",
       "      <th></th>\n",
       "      <th>genre</th>\n",
       "      <th>eu_sales</th>\n",
       "    </tr>\n",
       "  </thead>\n",
       "  <tbody>\n",
       "    <tr>\n",
       "      <th>0</th>\n",
       "      <td>Action</td>\n",
       "      <td>29.218750</td>\n",
       "    </tr>\n",
       "    <tr>\n",
       "      <th>8</th>\n",
       "      <td>Shooter</td>\n",
       "      <td>21.000000</td>\n",
       "    </tr>\n",
       "    <tr>\n",
       "      <th>10</th>\n",
       "      <td>Sports</td>\n",
       "      <td>11.125000</td>\n",
       "    </tr>\n",
       "    <tr>\n",
       "      <th>7</th>\n",
       "      <td>Role-Playing</td>\n",
       "      <td>10.359375</td>\n",
       "    </tr>\n",
       "    <tr>\n",
       "      <th>6</th>\n",
       "      <td>Racing</td>\n",
       "      <td>6.519531</td>\n",
       "    </tr>\n",
       "  </tbody>\n",
       "</table>\n",
       "</div>"
      ],
      "text/plain": [
       "           genre   eu_sales\n",
       "0         Action  29.218750\n",
       "8        Shooter  21.000000\n",
       "10        Sports  11.125000\n",
       "7   Role-Playing  10.359375\n",
       "6         Racing   6.519531"
      ]
     },
     "execution_count": 50,
     "metadata": {},
     "output_type": "execute_result"
    }
   ],
   "source": [
    "#найдём самые популярные жанры для EU региона\n",
    "genre_data_for_regs.groupby(\"genre\")\\\n",
    "                   .sum()\\\n",
    "                   .reset_index()\\\n",
    "                   .sort_values(\"eu_sales\", ascending=False)[[\"genre\", \"eu_sales\"]]\\\n",
    "                   .head(5)"
   ]
  },
  {
   "cell_type": "markdown",
   "metadata": {},
   "source": [
    "Для региона EU более прибыльные жанры - Shooter и Action, причем Action прибыльнее, и разница между Action и Shooter больше, чем для NA региона."
   ]
  },
  {
   "cell_type": "code",
   "execution_count": 51,
   "metadata": {},
   "outputs": [
    {
     "data": {
      "text/html": [
       "<div>\n",
       "<style scoped>\n",
       "    .dataframe tbody tr th:only-of-type {\n",
       "        vertical-align: middle;\n",
       "    }\n",
       "\n",
       "    .dataframe tbody tr th {\n",
       "        vertical-align: top;\n",
       "    }\n",
       "\n",
       "    .dataframe thead th {\n",
       "        text-align: right;\n",
       "    }\n",
       "</style>\n",
       "<table border=\"1\" class=\"dataframe\">\n",
       "  <thead>\n",
       "    <tr style=\"text-align: right;\">\n",
       "      <th></th>\n",
       "      <th>genre</th>\n",
       "      <th>jp_sales</th>\n",
       "    </tr>\n",
       "  </thead>\n",
       "  <tbody>\n",
       "    <tr>\n",
       "      <th>0</th>\n",
       "      <td>Action</td>\n",
       "      <td>16.390625</td>\n",
       "    </tr>\n",
       "    <tr>\n",
       "      <th>7</th>\n",
       "      <td>Role-Playing</td>\n",
       "      <td>10.687500</td>\n",
       "    </tr>\n",
       "    <tr>\n",
       "      <th>3</th>\n",
       "      <td>Misc</td>\n",
       "      <td>3.191406</td>\n",
       "    </tr>\n",
       "    <tr>\n",
       "      <th>1</th>\n",
       "      <td>Adventure</td>\n",
       "      <td>2.218750</td>\n",
       "    </tr>\n",
       "    <tr>\n",
       "      <th>2</th>\n",
       "      <td>Fighting</td>\n",
       "      <td>1.540039</td>\n",
       "    </tr>\n",
       "  </tbody>\n",
       "</table>\n",
       "</div>"
      ],
      "text/plain": [
       "          genre   jp_sales\n",
       "0        Action  16.390625\n",
       "7  Role-Playing  10.687500\n",
       "3          Misc   3.191406\n",
       "1     Adventure   2.218750\n",
       "2      Fighting   1.540039"
      ]
     },
     "execution_count": 51,
     "metadata": {},
     "output_type": "execute_result"
    }
   ],
   "source": [
    "#найдём самые популярные жанры для JP региона\n",
    "genre_data_for_regs.groupby(\"genre\")\\\n",
    "                   .sum()\\\n",
    "                   .reset_index()\\\n",
    "                   .sort_values(\"jp_sales\", ascending=False)[[\"genre\", \"jp_sales\"]]\\\n",
    "                   .head(8)"
   ]
  },
  {
   "cell_type": "markdown",
   "metadata": {},
   "source": [
    "Кардинально отличается ситуация в JP регионе. Shooter занимает 5е место, а лидируют Role-Playing и Action. "
   ]
  },
  {
   "cell_type": "markdown",
   "metadata": {},
   "source": [
    "### 3. Влияет ли рейтинг ESRB на продажи в отдельном регионе?"
   ]
  },
  {
   "cell_type": "code",
   "execution_count": 52,
   "metadata": {},
   "outputs": [
    {
     "data": {
      "text/plain": [
       "{'E': 0, 'M': 1, 'T': 2, 'E10+': 3, 'K-A': 4, 'AO': 5, 'EC': 6}"
      ]
     },
     "execution_count": 52,
     "metadata": {},
     "output_type": "execute_result"
    }
   ],
   "source": [
    "#выведем значения, на которые мы заменили рейтинги\n",
    "dict_with_r"
   ]
  },
  {
   "cell_type": "code",
   "execution_count": 53,
   "metadata": {},
   "outputs": [],
   "source": [
    "data_2015.rating = data_2015.rating.map({0:\"E\", 1:\"M\", 2:\"T\", 3:\"E10+\", 4:\"K-A\", 5:\"AO\", 6:\"EC\"})"
   ]
  },
  {
   "cell_type": "code",
   "execution_count": 54,
   "metadata": {},
   "outputs": [
    {
     "data": {
      "text/plain": [
       "<BarContainer object of 4 artists>"
      ]
     },
     "execution_count": 54,
     "metadata": {},
     "output_type": "execute_result"
    },
    {
     "data": {
      "image/png": "[encoded data removed]",
      "text/plain": [
       "<Figure size 432x288 with 1 Axes>"
      ]
     },
     "metadata": {},
     "output_type": "display_data"
    }
   ],
   "source": [
    "#сначала посмотрим, как распределились рейтинги для всех регионов\n",
    "grouped_rating = data_2015.groupby(\"rating\").sum().reset_index()\n",
    "plt.bar(grouped_rating.rating, grouped_rating.sum_regions)"
   ]
  },
  {
   "cell_type": "code",
   "execution_count": 55,
   "metadata": {},
   "outputs": [
    {
     "data": {
      "text/plain": [
       "<BarContainer object of 4 artists>"
      ]
     },
     "execution_count": 55,
     "metadata": {},
     "output_type": "execute_result"
    },
    {
     "data": {
      "image/png": "[encoded data removed]",
      "text/plain": [
       "<Figure size 1296x288 with 3 Axes>"
      ]
     },
     "metadata": {},
     "output_type": "display_data"
    }
   ],
   "source": [
    "#теперь посмотрим, как распределились рейтинги для каждого региона\n",
    "fig = plt.figure(figsize=(18, 4))\n",
    "ax1=fig.add_subplot(131)\n",
    "ax2=fig.add_subplot(132)\n",
    "ax3=fig.add_subplot(133)\n",
    "ax1.set_title('NA регион')\n",
    "ax2.set_title('EU регион')\n",
    "ax3.set_title('JP регион')\n",
    "ax1.bar(grouped_rating.rating, grouped_rating.na_sales)\n",
    "ax2.bar(grouped_rating.rating, grouped_rating.eu_sales)\n",
    "ax3.bar(grouped_rating.rating, grouped_rating.jp_sales)"
   ]
  },
  {
   "cell_type": "markdown",
   "metadata": {},
   "source": [
    "Видно, что для NA и EU регионов рейтинги примерно одинаковы, по продажам лидирует рейтинг M. В регионе JP больше всего продаж игр с рейтингом T. "
   ]
  },
  {
   "cell_type": "markdown",
   "metadata": {},
   "source": [
    "## Шаг 6. Проведите исследование статистических показателей\n",
    "### Как изменяется пользовательский рейтинг и рейтинг критиков в различных жанрах? Посчитайте среднее количество, дисперсию и стандартное отклонение. Постройте гистограммы. Опишите распределения"
   ]
  },
  {
   "cell_type": "code",
   "execution_count": 56,
   "metadata": {},
   "outputs": [
    {
     "data": {
      "text/html": [
       "<div>\n",
       "<style scoped>\n",
       "    .dataframe tbody tr th:only-of-type {\n",
       "        vertical-align: middle;\n",
       "    }\n",
       "\n",
       "    .dataframe tbody tr th {\n",
       "        vertical-align: top;\n",
       "    }\n",
       "\n",
       "    .dataframe thead th {\n",
       "        text-align: right;\n",
       "    }\n",
       "</style>\n",
       "<table border=\"1\" class=\"dataframe\">\n",
       "  <thead>\n",
       "    <tr style=\"text-align: right;\">\n",
       "      <th></th>\n",
       "      <th>genre</th>\n",
       "      <th>critic_score</th>\n",
       "      <th>user_score</th>\n",
       "    </tr>\n",
       "  </thead>\n",
       "  <tbody>\n",
       "    <tr>\n",
       "      <th>0</th>\n",
       "      <td>Action</td>\n",
       "      <td>72.092233</td>\n",
       "      <td>6.792969</td>\n",
       "    </tr>\n",
       "    <tr>\n",
       "      <th>1</th>\n",
       "      <td>Adventure</td>\n",
       "      <td>74.291667</td>\n",
       "      <td>7.488281</td>\n",
       "    </tr>\n",
       "    <tr>\n",
       "      <th>2</th>\n",
       "      <td>Fighting</td>\n",
       "      <td>71.620690</td>\n",
       "      <td>7.027344</td>\n",
       "    </tr>\n",
       "    <tr>\n",
       "      <th>3</th>\n",
       "      <td>Misc</td>\n",
       "      <td>74.517241</td>\n",
       "      <td>6.894531</td>\n",
       "    </tr>\n",
       "    <tr>\n",
       "      <th>4</th>\n",
       "      <td>Platform</td>\n",
       "      <td>75.428571</td>\n",
       "      <td>6.101562</td>\n",
       "    </tr>\n",
       "    <tr>\n",
       "      <th>5</th>\n",
       "      <td>Puzzle</td>\n",
       "      <td>76.000000</td>\n",
       "      <td>7.765625</td>\n",
       "    </tr>\n",
       "    <tr>\n",
       "      <th>6</th>\n",
       "      <td>Racing</td>\n",
       "      <td>71.937500</td>\n",
       "      <td>6.558594</td>\n",
       "    </tr>\n",
       "    <tr>\n",
       "      <th>7</th>\n",
       "      <td>Role-Playing</td>\n",
       "      <td>76.176471</td>\n",
       "      <td>7.714844</td>\n",
       "    </tr>\n",
       "    <tr>\n",
       "      <th>8</th>\n",
       "      <td>Shooter</td>\n",
       "      <td>75.283333</td>\n",
       "      <td>6.386719</td>\n",
       "    </tr>\n",
       "    <tr>\n",
       "      <th>9</th>\n",
       "      <td>Simulation</td>\n",
       "      <td>68.400000</td>\n",
       "      <td>6.593750</td>\n",
       "    </tr>\n",
       "    <tr>\n",
       "      <th>10</th>\n",
       "      <td>Sports</td>\n",
       "      <td>66.294118</td>\n",
       "      <td>5.128906</td>\n",
       "    </tr>\n",
       "    <tr>\n",
       "      <th>11</th>\n",
       "      <td>Strategy</td>\n",
       "      <td>77.562500</td>\n",
       "      <td>7.269531</td>\n",
       "    </tr>\n",
       "  </tbody>\n",
       "</table>\n",
       "</div>"
      ],
      "text/plain": [
       "           genre  critic_score  user_score\n",
       "0         Action     72.092233    6.792969\n",
       "1      Adventure     74.291667    7.488281\n",
       "2       Fighting     71.620690    7.027344\n",
       "3           Misc     74.517241    6.894531\n",
       "4       Platform     75.428571    6.101562\n",
       "5         Puzzle     76.000000    7.765625\n",
       "6         Racing     71.937500    6.558594\n",
       "7   Role-Playing     76.176471    7.714844\n",
       "8        Shooter     75.283333    6.386719\n",
       "9     Simulation     68.400000    6.593750\n",
       "10        Sports     66.294118    5.128906\n",
       "11      Strategy     77.562500    7.269531"
      ]
     },
     "execution_count": 56,
     "metadata": {},
     "output_type": "execute_result"
    }
   ],
   "source": [
    "scores_genre = data_2015.pivot_table(index=\"genre\", values=[\"user_score\", \"critic_score\"]).reset_index()\n",
    "scores_genre"
   ]
  },
  {
   "cell_type": "code",
   "execution_count": 57,
   "metadata": {},
   "outputs": [
    {
     "name": "stdout",
     "output_type": "stream",
     "text": [
      "Средняя оценка критиков: 72.46083333333333, дисперсия: 168.91054930555535, ст. отклонение: 12.996559133307375\n"
     ]
    }
   ],
   "source": [
    "critic_mean = data_2015.critic_score.mean()\n",
    "critic_var = np.var(data_2015.critic_score)\n",
    "critic_sq = np.sqrt(critic_var)\n",
    "print(\"Средняя оценка критиков: {0}, дисперсия: {1}, ст. отклонение: {2}\".format(critic_mean, critic_var, critic_sq))"
   ]
  },
  {
   "cell_type": "code",
   "execution_count": 58,
   "metadata": {},
   "outputs": [
    {
     "data": {
      "text/plain": [
       "<AxesSubplot:title={'center':'Все оценки критиков по данным после 2015 г.'}, xlabel='critic_score', ylabel='Count'>"
      ]
     },
     "execution_count": 58,
     "metadata": {},
     "output_type": "execute_result"
    },
    {
     "data": {
      "image/png": "[encoded data removed]",
      "text/plain": [
       "<Figure size 720x288 with 2 Axes>"
      ]
     },
     "metadata": {},
     "output_type": "display_data"
    }
   ],
   "source": [
    "fig = plt.figure(figsize=(10, 4))\n",
    "ax1=fig.add_subplot(121)\n",
    "ax2=fig.add_subplot(122)\n",
    "ax1.set_title('Средние оценки критиков по жанрам')\n",
    "ax2.set_title('Все оценки критиков по данным после 2015 г.')\n",
    "sns.histplot(data=scores_genre, x=\"critic_score\", kde=True, ax=ax1)\n",
    "sns.histplot(data=data_2015, x=\"critic_score\", kde=True, bins=30, ax=ax2)"
   ]
  },
  {
   "cell_type": "code",
   "execution_count": 59,
   "metadata": {},
   "outputs": [
    {
     "name": "stdout",
     "output_type": "stream",
     "text": [
      "Средняя оценка пользователей: 6.8125, дисперсия: 0.50634765625, ст. отклонение: 0.71142578125\n"
     ]
    }
   ],
   "source": [
    "user_mean = scores_genre.user_score.mean()\n",
    "user_var = np.var(scores_genre.user_score)\n",
    "user_sq = np.sqrt(user_var)\n",
    "print(\"Средняя оценка пользователей: {0}, дисперсия: {1}, ст. отклонение: {2}\".format(user_mean, user_var, user_sq))"
   ]
  },
  {
   "cell_type": "code",
   "execution_count": 60,
   "metadata": {},
   "outputs": [
    {
     "data": {
      "text/plain": [
       "<AxesSubplot:title={'center':'Все оценки пользователей по данным после 2015 г.'}, xlabel='user_score', ylabel='Count'>"
      ]
     },
     "execution_count": 60,
     "metadata": {},
     "output_type": "execute_result"
    },
    {
     "data": {
      "image/png": "[encoded data removed]",
      "text/plain": [
       "<Figure size 720x288 with 2 Axes>"
      ]
     },
     "metadata": {},
     "output_type": "display_data"
    }
   ],
   "source": [
    "fig = plt.figure(figsize=(10, 4))\n",
    "ax1=fig.add_subplot(121)\n",
    "ax2=fig.add_subplot(122)\n",
    "ax1.set_title('Средние оценки пользователей по жанрам')\n",
    "ax2.set_title('Все оценки пользователей по данным после 2015 г.')\n",
    "sns.histplot(data=scores_genre, x=\"user_score\", kde=True, ax=ax1)\n",
    "sns.histplot(data=data_2015, x=\"user_score\", kde=True, bins=30, ax=ax2)"
   ]
  },
  {
   "cell_type": "markdown",
   "metadata": {},
   "source": [
    "## Шаг 7. Проверьте гипотезы\n",
    "### Средние пользовательские рейтинги платформ Xbox One и PC одинаковые\n",
    "\n",
    "Нулевая гипотеза - средние пользовательские рейтинги платформ Xbox One и PC одинаковые.\n",
    "Альтернативная гипотеза - средние пользовательские рейтинги платформ Xbox One и PC не одинаковые"
   ]
  },
  {
   "cell_type": "code",
   "execution_count": 61,
   "metadata": {},
   "outputs": [
    {
     "name": "stdout",
     "output_type": "stream",
     "text": [
      "p-значение:  0.12428094683658635\n",
      "Не получилось отвергнуть нулевую гипотезу\n"
     ]
    }
   ],
   "source": [
    "results_platf = st.ttest_ind(data_2015[data_2015[\"platform\"]==\"XOne\"].user_score, \n",
    "                       data_2015[data_2015[\"platform\"]==\"PC\"].user_score, \n",
    "                       equal_var = False, nan_policy=\"omit\")\n",
    "print('p-значение: ', results_platf.pvalue)\n",
    "alpha = 0.05\n",
    "if (results_platf.pvalue < alpha):\n",
    "    print(\"Отвергаем нулевую гипотезу\")\n",
    "else:\n",
    "    print(\"Не получилось отвергнуть нулевую гипотезу\")"
   ]
  },
  {
   "cell_type": "code",
   "execution_count": 62,
   "metadata": {},
   "outputs": [
    {
     "data": {
      "text/plain": [
       "<AxesSubplot:title={'center':'Оценки пользователей для PC'}, xlabel='user_score', ylabel='Count'>"
      ]
     },
     "execution_count": 62,
     "metadata": {},
     "output_type": "execute_result"
    },
    {
     "data": {
      "image/png": "[encoded data removed]",
      "text/plain": [
       "<Figure size 720x288 with 2 Axes>"
      ]
     },
     "metadata": {},
     "output_type": "display_data"
    }
   ],
   "source": [
    "fig = plt.figure(figsize=(10, 4))\n",
    "ax1=fig.add_subplot(121)\n",
    "ax2=fig.add_subplot(122)\n",
    "ax1.set_title('Оценки пользователей для XOne')\n",
    "ax2.set_title('Оценки пользователей для PC')\n",
    "sns.histplot(data=data_2015[data_2015[\"platform\"]==\"XOne\"], x=\"user_score\", kde=True, ax=ax1, bins=20)\n",
    "sns.histplot(data=data_2015[data_2015[\"platform\"]==\"PC\"], x=\"user_score\", kde=True, ax=ax2, bins=20)"
   ]
  },
  {
   "cell_type": "markdown",
   "metadata": {},
   "source": [
    "Т.к. p-value получилось меньше порогового значения, отвергаем нулевую гипотезу, значит, средние пользовательские рейтинги разные для двух платформ. "
   ]
  },
  {
   "cell_type": "markdown",
   "metadata": {},
   "source": [
    "### Средние пользовательские рейтинги жанров Action (англ. «действие») и Sports (англ. «виды спорта») разные.\n",
    "Т.к. мы используем t-test (ttest_ind) из пакета stats, то нулевая гипотеза - пользовательские рейтинги жанров Action (англ. «действие») и Sports (англ. «виды спорта») равны, альтернативная - не равны.  \n",
    "* Документация ttest_ind: \"This is a two-sided test for the null hypothesis that 2 independent samples have identical average (expected) values. This test assumes that the populations have identical variances by default.\""
   ]
  },
  {
   "cell_type": "code",
   "execution_count": 63,
   "metadata": {},
   "outputs": [
    {
     "name": "stdout",
     "output_type": "stream",
     "text": [
      "p-значение:  1.7039923856765368e-11\n",
      "Не получилось отвергнуть нулевую гипотезу\n"
     ]
    }
   ],
   "source": [
    "results_gen = st.ttest_ind(data_2015[data_2015[\"genre\"]==\"Action\"].user_score, \n",
    "                       data_2015[data_2015[\"genre\"]==\"Sports\"].user_score, \n",
    "                       equal_var = False, nan_policy=\"omit\")\n",
    "print('p-значение: ', results_gen.pvalue)\n",
    "alpha = 0.05\n",
    "if (results_platf.pvalue < alpha):\n",
    "    print(\"Отвергаем нулевую гипотезу\")\n",
    "else:\n",
    "    print(\"Не получилось отвергнуть нулевую гипотезу\")"
   ]
  },
  {
   "cell_type": "code",
   "execution_count": 64,
   "metadata": {},
   "outputs": [
    {
     "data": {
      "text/plain": [
       "<AxesSubplot:title={'center':'Оценки пользователей для Sports'}, xlabel='user_score', ylabel='Count'>"
      ]
     },
     "execution_count": 64,
     "metadata": {},
     "output_type": "execute_result"
    },
    {
     "data": {
      "image/png": "[encoded data removed]",
      "text/plain": [
       "<Figure size 720x288 with 2 Axes>"
      ]
     },
     "metadata": {},
     "output_type": "display_data"
    }
   ],
   "source": [
    "fig = plt.figure(figsize=(10, 4))\n",
    "ax1=fig.add_subplot(121)\n",
    "ax2=fig.add_subplot(122)\n",
    "ax1.set_title('Оценки пользователей для Action')\n",
    "ax2.set_title('Оценки пользователей для Sports')\n",
    "sns.histplot(data=data_2015[data_2015[\"genre\"]==\"Action\"], x=\"user_score\", kde=True, ax=ax1, bins=20)\n",
    "sns.histplot(data=data_2015[data_2015[\"genre\"]==\"Sports\"], x=\"user_score\", kde=True, ax=ax2, bins=20)"
   ]
  },
  {
   "cell_type": "markdown",
   "metadata": {},
   "source": [
    "Т.к. p-value получилось меньше порогового значения, отвергаем нулевую гипотезу, значит, средние пользовательские рейтинги разные для двух жанров. "
   ]
  },
  {
   "cell_type": "markdown",
   "metadata": {},
   "source": [
    "## Шаг 8. Напишите общий вывод"
   ]
  },
  {
   "cell_type": "markdown",
   "metadata": {},
   "source": [
    "1. Данные содержали 11 столбцов и 16715 строк, при этом только 8137 строк были без нулевых значений. Столбец \"user_score\" содержал значения tbd (2424 строки), что в дальнейшем приравнивалось к нулевому значению.\n",
    "Максимальные продажи для NA, EU, JP регионов - 41.36 млн, 28.96 млн, 10.22 млн, соответственно.\n",
    "\n",
    "2. Популярность консолей выросла после 1990 года, если судить по данным, но, возможно, данных до 1990 года просто недостаточно. Максимальные продажи наблюдались в 2008-2009 годах, после 2011 года произошёл резкий спад продаж. \n",
    "Всего рассматривалось 31 платформа, самая ранняя - 2600 (данные начинаются с 1985 г.), самая долгоживущая - PC (31 год)\n",
    "Топ-10 платформ по суммарным продажам: PS2, PS3, X360, PS, DS, Wii, GBA, PSP, XB, PC.\n",
    "Средняя продолжительность жизни платформы из этих топ-10 - 10 лет. Средняя продолжительность жизни по всем данным без учёта выбросов (например, PC) - 6-8 лет. Устаревших платформ очень много, например: 2600, 3DO, PS, GB, DС, SAT и т.д. \n",
    "Самые популярные платформы: если опираться на общие продажи, то наиболее прибыльные - PS4, XOne, 3DS. Если же опираться на продажи одной игры, то прибыльные - XOne, Wii, WiiU, однако самой перспективной является PS4.\n",
    "\n",
    "3. Также была рассмотрена корреляция между продажами и отзывами критиков\\пользователей на примере 3 платформ - PS4, XOne, 3DS. Коэффициенты корреляции оказались довольно низкими, т.е. какой-то явной связи не прослеживается, однако на графиках видно, что игры с высокими продажами практически не имеют плохих отзывов от критиков (~все отзывы>70).\n",
    "\n",
    "4. (суммарно по всем регионам) \n",
    "Самые прибыльные жанры: Action, Shooter, Sports и Role-Playing.  \n",
    "Самые неприбыльные: Simulation, Strategy, Puzzle  \n",
    "* Для региона NA более прибыльные жанры - Shooter и Action.\n",
    "* Для региона EU более прибыльные жанры - Shooter и Action, причем Action прибыльнее, и разница между Action и Shooter больше, чем для NA региона.\n",
    "* Кардинально отличается ситуация в JP регионе. Лидируют Role-Playing и Action.\n",
    "\n",
    "5. Для NA и EU регионов рейтинги примерно одинаковы, по продажам лидирует рейтинг M. В регионе JP больше всего продаж игр с рейтингом T.\n",
    "\n",
    "6. Были проверены 2 гипотезы. С помощью теста Левена оценены дисперсии выборок для обеих гипотез, после чего проведены t-тесты, alpha = 0.05.\n",
    "* 1. Нулевая гипотеза - средние пользовательские рейтинги платформ Xbox One и PC одинаковые. Альтернативная гипотеза - средние пользовательские рейтинги платформ Xbox One и PC не одинаковые\n",
    "Для дисперсий p-value = 0.0452, т.е. дисперсии разные, для t-теста equal_var = False. p-value для t-теста равен 0.1243. Т.к. p-value получилось меньше порогового значения, отвергаем нулевую гипотезу, значит, средние пользовательские рейтинги разные для двух платформ.\n",
    "* 2. Нулевая гипотеза - пользовательские рейтинги жанров Action (англ. «действие») и Sports (англ. «виды спорта») равны. Альтернативная гипотеза - пользовательские рейтинги жанров Action (англ. «действие») и Sports (англ. «виды спорта») не равны\n",
    "Для дисперсий p-value = 0.0025, т.е. дисперсии разные, для t-теста equal_var = False. p-value для t-теста =~0. Т.к. p-value получилось меньше порогового значения, отвергаем нулевую гипотезу, значит, средние пользовательские рейтинги разные для двух жанров."
   ]
  },
  {
   "cell_type": "code",
   "execution_count": null,
   "metadata": {},
   "outputs": [],
   "source": []
  }
 ],
 "metadata": {
  "kernelspec": {
   "display_name": "Python 3",
   "language": "python",
   "name": "python3"
  },
  "language_info": {
   "codemirror_mode": {
    "name": "ipython",
    "version": 3
   },
   "file_extension": ".py",
   "mimetype": "text/x-python",
   "name": "python",
   "nbconvert_exporter": "python",
   "pygments_lexer": "ipython3",
   "version": "3.8.8"
  }
 },
 "nbformat": 4,
 "nbformat_minor": 4
}
